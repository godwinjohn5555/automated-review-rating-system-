{
  "cells": [
    {
      "cell_type": "markdown",
      "metadata": {
        "id": "view-in-github",
        "colab_type": "text"
      },
      "source": [
        "<a href=\"https://colab.research.google.com/github/godwinjohn5555/automated-review-rating-system-/blob/master/rev.ipynb\" target=\"_parent\"><img src=\"https://colab.research.google.com/assets/colab-badge.svg\" alt=\"Open In Colab\"/></a>"
      ]
    },
    {
      "cell_type": "code",
      "execution_count": 1,
      "metadata": {
        "id": "FHATUgsWcjNS"
      },
      "outputs": [],
      "source": [
        "import numpy as np\n",
        "import pandas as pd"
      ]
    },
    {
      "cell_type": "code",
      "execution_count": 2,
      "metadata": {
        "colab": {
          "base_uri": "https://localhost:8080/"
        },
        "id": "0LVr69ugrW5i",
        "outputId": "0d640071-0728-4a1c-b747-7c3bfbd0a813"
      },
      "outputs": [
        {
          "output_type": "stream",
          "name": "stdout",
          "text": [
            "Mounted at /content/drive\n"
          ]
        }
      ],
      "source": [
        "from google.colab import drive\n",
        "drive.mount('/content/drive')\n",
        "rev=pd.read_csv(\"/content/drive/MyDrive/Reviews.csv.zip\")"
      ]
    },
    {
      "cell_type": "code",
      "execution_count": 3,
      "metadata": {
        "colab": {
          "base_uri": "https://localhost:8080/",
          "height": 597
        },
        "id": "ZrKLCbI6cuOX",
        "outputId": "81c599a9-19b5-40d9-ebaa-e0c24a7d988e"
      },
      "outputs": [
        {
          "output_type": "execute_result",
          "data": {
            "text/plain": [
              "            Id   ProductId          UserId                      ProfileName  \\\n",
              "0            1  B001E4KFG0  A3SGXH7AUHU8GW                       delmartian   \n",
              "1            2  B00813GRG4  A1D87F6ZCVE5NK                           dll pa   \n",
              "2            3  B000LQOCH0   ABXLMWJIXXAIN  Natalia Corres \"Natalia Corres\"   \n",
              "3            4  B000UA0QIQ  A395BORC6FGVXV                             Karl   \n",
              "4            5  B006K2ZZ7K  A1UQRSCLF8GW1T    Michael D. Bigham \"M. Wassir\"   \n",
              "...        ...         ...             ...                              ...   \n",
              "568449  568450  B001EO7N10  A28KG5XORO54AY                 Lettie D. Carter   \n",
              "568450  568451  B003S1WTCU  A3I8AFVPEE8KI5                        R. Sawyer   \n",
              "568451  568452  B004I613EE  A121AA1GQV751Z                    pksd \"pk_007\"   \n",
              "568452  568453  B004I613EE   A3IBEVCTXKNOH          Kathy A. Welch \"katwel\"   \n",
              "568453  568454  B001LR2CU2  A3LGQPJCZVL9UC                         srfell17   \n",
              "\n",
              "        HelpfulnessNumerator  HelpfulnessDenominator  Score        Time  \\\n",
              "0                          1                       1      5  1303862400   \n",
              "1                          0                       0      1  1346976000   \n",
              "2                          1                       1      4  1219017600   \n",
              "3                          3                       3      2  1307923200   \n",
              "4                          0                       0      5  1350777600   \n",
              "...                      ...                     ...    ...         ...   \n",
              "568449                     0                       0      5  1299628800   \n",
              "568450                     0                       0      2  1331251200   \n",
              "568451                     2                       2      5  1329782400   \n",
              "568452                     1                       1      5  1331596800   \n",
              "568453                     0                       0      5  1338422400   \n",
              "\n",
              "                                   Summary  \\\n",
              "0                    Good Quality Dog Food   \n",
              "1                        Not as Advertised   \n",
              "2                    \"Delight\" says it all   \n",
              "3                           Cough Medicine   \n",
              "4                              Great taffy   \n",
              "...                                    ...   \n",
              "568449                 Will not do without   \n",
              "568450                        disappointed   \n",
              "568451            Perfect for our maltipoo   \n",
              "568452  Favorite Training and reward treat   \n",
              "568453                         Great Honey   \n",
              "\n",
              "                                                     Text  \n",
              "0       I have bought several of the Vitality canned d...  \n",
              "1       Product arrived labeled as Jumbo Salted Peanut...  \n",
              "2       This is a confection that has been around a fe...  \n",
              "3       If you are looking for the secret ingredient i...  \n",
              "4       Great taffy at a great price.  There was a wid...  \n",
              "...                                                   ...  \n",
              "568449  Great for sesame chicken..this is a good if no...  \n",
              "568450  I'm disappointed with the flavor. The chocolat...  \n",
              "568451  These stars are small, so you can give 10-15 o...  \n",
              "568452  These are the BEST treats for training and rew...  \n",
              "568453  I am very satisfied ,product is as advertised,...  \n",
              "\n",
              "[568454 rows x 10 columns]"
            ],
            "text/html": [
              "\n",
              "  <div id=\"df-56d604ad-e31e-49fc-88de-32a4684a794d\" class=\"colab-df-container\">\n",
              "    <div>\n",
              "<style scoped>\n",
              "    .dataframe tbody tr th:only-of-type {\n",
              "        vertical-align: middle;\n",
              "    }\n",
              "\n",
              "    .dataframe tbody tr th {\n",
              "        vertical-align: top;\n",
              "    }\n",
              "\n",
              "    .dataframe thead th {\n",
              "        text-align: right;\n",
              "    }\n",
              "</style>\n",
              "<table border=\"1\" class=\"dataframe\">\n",
              "  <thead>\n",
              "    <tr style=\"text-align: right;\">\n",
              "      <th></th>\n",
              "      <th>Id</th>\n",
              "      <th>ProductId</th>\n",
              "      <th>UserId</th>\n",
              "      <th>ProfileName</th>\n",
              "      <th>HelpfulnessNumerator</th>\n",
              "      <th>HelpfulnessDenominator</th>\n",
              "      <th>Score</th>\n",
              "      <th>Time</th>\n",
              "      <th>Summary</th>\n",
              "      <th>Text</th>\n",
              "    </tr>\n",
              "  </thead>\n",
              "  <tbody>\n",
              "    <tr>\n",
              "      <th>0</th>\n",
              "      <td>1</td>\n",
              "      <td>B001E4KFG0</td>\n",
              "      <td>A3SGXH7AUHU8GW</td>\n",
              "      <td>delmartian</td>\n",
              "      <td>1</td>\n",
              "      <td>1</td>\n",
              "      <td>5</td>\n",
              "      <td>1303862400</td>\n",
              "      <td>Good Quality Dog Food</td>\n",
              "      <td>I have bought several of the Vitality canned d...</td>\n",
              "    </tr>\n",
              "    <tr>\n",
              "      <th>1</th>\n",
              "      <td>2</td>\n",
              "      <td>B00813GRG4</td>\n",
              "      <td>A1D87F6ZCVE5NK</td>\n",
              "      <td>dll pa</td>\n",
              "      <td>0</td>\n",
              "      <td>0</td>\n",
              "      <td>1</td>\n",
              "      <td>1346976000</td>\n",
              "      <td>Not as Advertised</td>\n",
              "      <td>Product arrived labeled as Jumbo Salted Peanut...</td>\n",
              "    </tr>\n",
              "    <tr>\n",
              "      <th>2</th>\n",
              "      <td>3</td>\n",
              "      <td>B000LQOCH0</td>\n",
              "      <td>ABXLMWJIXXAIN</td>\n",
              "      <td>Natalia Corres \"Natalia Corres\"</td>\n",
              "      <td>1</td>\n",
              "      <td>1</td>\n",
              "      <td>4</td>\n",
              "      <td>1219017600</td>\n",
              "      <td>\"Delight\" says it all</td>\n",
              "      <td>This is a confection that has been around a fe...</td>\n",
              "    </tr>\n",
              "    <tr>\n",
              "      <th>3</th>\n",
              "      <td>4</td>\n",
              "      <td>B000UA0QIQ</td>\n",
              "      <td>A395BORC6FGVXV</td>\n",
              "      <td>Karl</td>\n",
              "      <td>3</td>\n",
              "      <td>3</td>\n",
              "      <td>2</td>\n",
              "      <td>1307923200</td>\n",
              "      <td>Cough Medicine</td>\n",
              "      <td>If you are looking for the secret ingredient i...</td>\n",
              "    </tr>\n",
              "    <tr>\n",
              "      <th>4</th>\n",
              "      <td>5</td>\n",
              "      <td>B006K2ZZ7K</td>\n",
              "      <td>A1UQRSCLF8GW1T</td>\n",
              "      <td>Michael D. Bigham \"M. Wassir\"</td>\n",
              "      <td>0</td>\n",
              "      <td>0</td>\n",
              "      <td>5</td>\n",
              "      <td>1350777600</td>\n",
              "      <td>Great taffy</td>\n",
              "      <td>Great taffy at a great price.  There was a wid...</td>\n",
              "    </tr>\n",
              "    <tr>\n",
              "      <th>...</th>\n",
              "      <td>...</td>\n",
              "      <td>...</td>\n",
              "      <td>...</td>\n",
              "      <td>...</td>\n",
              "      <td>...</td>\n",
              "      <td>...</td>\n",
              "      <td>...</td>\n",
              "      <td>...</td>\n",
              "      <td>...</td>\n",
              "      <td>...</td>\n",
              "    </tr>\n",
              "    <tr>\n",
              "      <th>568449</th>\n",
              "      <td>568450</td>\n",
              "      <td>B001EO7N10</td>\n",
              "      <td>A28KG5XORO54AY</td>\n",
              "      <td>Lettie D. Carter</td>\n",
              "      <td>0</td>\n",
              "      <td>0</td>\n",
              "      <td>5</td>\n",
              "      <td>1299628800</td>\n",
              "      <td>Will not do without</td>\n",
              "      <td>Great for sesame chicken..this is a good if no...</td>\n",
              "    </tr>\n",
              "    <tr>\n",
              "      <th>568450</th>\n",
              "      <td>568451</td>\n",
              "      <td>B003S1WTCU</td>\n",
              "      <td>A3I8AFVPEE8KI5</td>\n",
              "      <td>R. Sawyer</td>\n",
              "      <td>0</td>\n",
              "      <td>0</td>\n",
              "      <td>2</td>\n",
              "      <td>1331251200</td>\n",
              "      <td>disappointed</td>\n",
              "      <td>I'm disappointed with the flavor. The chocolat...</td>\n",
              "    </tr>\n",
              "    <tr>\n",
              "      <th>568451</th>\n",
              "      <td>568452</td>\n",
              "      <td>B004I613EE</td>\n",
              "      <td>A121AA1GQV751Z</td>\n",
              "      <td>pksd \"pk_007\"</td>\n",
              "      <td>2</td>\n",
              "      <td>2</td>\n",
              "      <td>5</td>\n",
              "      <td>1329782400</td>\n",
              "      <td>Perfect for our maltipoo</td>\n",
              "      <td>These stars are small, so you can give 10-15 o...</td>\n",
              "    </tr>\n",
              "    <tr>\n",
              "      <th>568452</th>\n",
              "      <td>568453</td>\n",
              "      <td>B004I613EE</td>\n",
              "      <td>A3IBEVCTXKNOH</td>\n",
              "      <td>Kathy A. Welch \"katwel\"</td>\n",
              "      <td>1</td>\n",
              "      <td>1</td>\n",
              "      <td>5</td>\n",
              "      <td>1331596800</td>\n",
              "      <td>Favorite Training and reward treat</td>\n",
              "      <td>These are the BEST treats for training and rew...</td>\n",
              "    </tr>\n",
              "    <tr>\n",
              "      <th>568453</th>\n",
              "      <td>568454</td>\n",
              "      <td>B001LR2CU2</td>\n",
              "      <td>A3LGQPJCZVL9UC</td>\n",
              "      <td>srfell17</td>\n",
              "      <td>0</td>\n",
              "      <td>0</td>\n",
              "      <td>5</td>\n",
              "      <td>1338422400</td>\n",
              "      <td>Great Honey</td>\n",
              "      <td>I am very satisfied ,product is as advertised,...</td>\n",
              "    </tr>\n",
              "  </tbody>\n",
              "</table>\n",
              "<p>568454 rows × 10 columns</p>\n",
              "</div>\n",
              "    <div class=\"colab-df-buttons\">\n",
              "\n",
              "  <div class=\"colab-df-container\">\n",
              "    <button class=\"colab-df-convert\" onclick=\"convertToInteractive('df-56d604ad-e31e-49fc-88de-32a4684a794d')\"\n",
              "            title=\"Convert this dataframe to an interactive table.\"\n",
              "            style=\"display:none;\">\n",
              "\n",
              "  <svg xmlns=\"http://www.w3.org/2000/svg\" height=\"24px\" viewBox=\"0 -960 960 960\">\n",
              "    <path d=\"M120-120v-720h720v720H120Zm60-500h600v-160H180v160Zm220 220h160v-160H400v160Zm0 220h160v-160H400v160ZM180-400h160v-160H180v160Zm440 0h160v-160H620v160ZM180-180h160v-160H180v160Zm440 0h160v-160H620v160Z\"/>\n",
              "  </svg>\n",
              "    </button>\n",
              "\n",
              "  <style>\n",
              "    .colab-df-container {\n",
              "      display:flex;\n",
              "      gap: 12px;\n",
              "    }\n",
              "\n",
              "    .colab-df-convert {\n",
              "      background-color: #E8F0FE;\n",
              "      border: none;\n",
              "      border-radius: 50%;\n",
              "      cursor: pointer;\n",
              "      display: none;\n",
              "      fill: #1967D2;\n",
              "      height: 32px;\n",
              "      padding: 0 0 0 0;\n",
              "      width: 32px;\n",
              "    }\n",
              "\n",
              "    .colab-df-convert:hover {\n",
              "      background-color: #E2EBFA;\n",
              "      box-shadow: 0px 1px 2px rgba(60, 64, 67, 0.3), 0px 1px 3px 1px rgba(60, 64, 67, 0.15);\n",
              "      fill: #174EA6;\n",
              "    }\n",
              "\n",
              "    .colab-df-buttons div {\n",
              "      margin-bottom: 4px;\n",
              "    }\n",
              "\n",
              "    [theme=dark] .colab-df-convert {\n",
              "      background-color: #3B4455;\n",
              "      fill: #D2E3FC;\n",
              "    }\n",
              "\n",
              "    [theme=dark] .colab-df-convert:hover {\n",
              "      background-color: #434B5C;\n",
              "      box-shadow: 0px 1px 3px 1px rgba(0, 0, 0, 0.15);\n",
              "      filter: drop-shadow(0px 1px 2px rgba(0, 0, 0, 0.3));\n",
              "      fill: #FFFFFF;\n",
              "    }\n",
              "  </style>\n",
              "\n",
              "    <script>\n",
              "      const buttonEl =\n",
              "        document.querySelector('#df-56d604ad-e31e-49fc-88de-32a4684a794d button.colab-df-convert');\n",
              "      buttonEl.style.display =\n",
              "        google.colab.kernel.accessAllowed ? 'block' : 'none';\n",
              "\n",
              "      async function convertToInteractive(key) {\n",
              "        const element = document.querySelector('#df-56d604ad-e31e-49fc-88de-32a4684a794d');\n",
              "        const dataTable =\n",
              "          await google.colab.kernel.invokeFunction('convertToInteractive',\n",
              "                                                    [key], {});\n",
              "        if (!dataTable) return;\n",
              "\n",
              "        const docLinkHtml = 'Like what you see? Visit the ' +\n",
              "          '<a target=\"_blank\" href=https://colab.research.google.com/notebooks/data_table.ipynb>data table notebook</a>'\n",
              "          + ' to learn more about interactive tables.';\n",
              "        element.innerHTML = '';\n",
              "        dataTable['output_type'] = 'display_data';\n",
              "        await google.colab.output.renderOutput(dataTable, element);\n",
              "        const docLink = document.createElement('div');\n",
              "        docLink.innerHTML = docLinkHtml;\n",
              "        element.appendChild(docLink);\n",
              "      }\n",
              "    </script>\n",
              "  </div>\n",
              "\n",
              "\n",
              "    <div id=\"df-e3a1d7e4-0512-474f-9616-ec87363d31a3\">\n",
              "      <button class=\"colab-df-quickchart\" onclick=\"quickchart('df-e3a1d7e4-0512-474f-9616-ec87363d31a3')\"\n",
              "                title=\"Suggest charts\"\n",
              "                style=\"display:none;\">\n",
              "\n",
              "<svg xmlns=\"http://www.w3.org/2000/svg\" height=\"24px\"viewBox=\"0 0 24 24\"\n",
              "     width=\"24px\">\n",
              "    <g>\n",
              "        <path d=\"M19 3H5c-1.1 0-2 .9-2 2v14c0 1.1.9 2 2 2h14c1.1 0 2-.9 2-2V5c0-1.1-.9-2-2-2zM9 17H7v-7h2v7zm4 0h-2V7h2v10zm4 0h-2v-4h2v4z\"/>\n",
              "    </g>\n",
              "</svg>\n",
              "      </button>\n",
              "\n",
              "<style>\n",
              "  .colab-df-quickchart {\n",
              "      --bg-color: #E8F0FE;\n",
              "      --fill-color: #1967D2;\n",
              "      --hover-bg-color: #E2EBFA;\n",
              "      --hover-fill-color: #174EA6;\n",
              "      --disabled-fill-color: #AAA;\n",
              "      --disabled-bg-color: #DDD;\n",
              "  }\n",
              "\n",
              "  [theme=dark] .colab-df-quickchart {\n",
              "      --bg-color: #3B4455;\n",
              "      --fill-color: #D2E3FC;\n",
              "      --hover-bg-color: #434B5C;\n",
              "      --hover-fill-color: #FFFFFF;\n",
              "      --disabled-bg-color: #3B4455;\n",
              "      --disabled-fill-color: #666;\n",
              "  }\n",
              "\n",
              "  .colab-df-quickchart {\n",
              "    background-color: var(--bg-color);\n",
              "    border: none;\n",
              "    border-radius: 50%;\n",
              "    cursor: pointer;\n",
              "    display: none;\n",
              "    fill: var(--fill-color);\n",
              "    height: 32px;\n",
              "    padding: 0;\n",
              "    width: 32px;\n",
              "  }\n",
              "\n",
              "  .colab-df-quickchart:hover {\n",
              "    background-color: var(--hover-bg-color);\n",
              "    box-shadow: 0 1px 2px rgba(60, 64, 67, 0.3), 0 1px 3px 1px rgba(60, 64, 67, 0.15);\n",
              "    fill: var(--button-hover-fill-color);\n",
              "  }\n",
              "\n",
              "  .colab-df-quickchart-complete:disabled,\n",
              "  .colab-df-quickchart-complete:disabled:hover {\n",
              "    background-color: var(--disabled-bg-color);\n",
              "    fill: var(--disabled-fill-color);\n",
              "    box-shadow: none;\n",
              "  }\n",
              "\n",
              "  .colab-df-spinner {\n",
              "    border: 2px solid var(--fill-color);\n",
              "    border-color: transparent;\n",
              "    border-bottom-color: var(--fill-color);\n",
              "    animation:\n",
              "      spin 1s steps(1) infinite;\n",
              "  }\n",
              "\n",
              "  @keyframes spin {\n",
              "    0% {\n",
              "      border-color: transparent;\n",
              "      border-bottom-color: var(--fill-color);\n",
              "      border-left-color: var(--fill-color);\n",
              "    }\n",
              "    20% {\n",
              "      border-color: transparent;\n",
              "      border-left-color: var(--fill-color);\n",
              "      border-top-color: var(--fill-color);\n",
              "    }\n",
              "    30% {\n",
              "      border-color: transparent;\n",
              "      border-left-color: var(--fill-color);\n",
              "      border-top-color: var(--fill-color);\n",
              "      border-right-color: var(--fill-color);\n",
              "    }\n",
              "    40% {\n",
              "      border-color: transparent;\n",
              "      border-right-color: var(--fill-color);\n",
              "      border-top-color: var(--fill-color);\n",
              "    }\n",
              "    60% {\n",
              "      border-color: transparent;\n",
              "      border-right-color: var(--fill-color);\n",
              "    }\n",
              "    80% {\n",
              "      border-color: transparent;\n",
              "      border-right-color: var(--fill-color);\n",
              "      border-bottom-color: var(--fill-color);\n",
              "    }\n",
              "    90% {\n",
              "      border-color: transparent;\n",
              "      border-bottom-color: var(--fill-color);\n",
              "    }\n",
              "  }\n",
              "</style>\n",
              "\n",
              "      <script>\n",
              "        async function quickchart(key) {\n",
              "          const quickchartButtonEl =\n",
              "            document.querySelector('#' + key + ' button');\n",
              "          quickchartButtonEl.disabled = true;  // To prevent multiple clicks.\n",
              "          quickchartButtonEl.classList.add('colab-df-spinner');\n",
              "          try {\n",
              "            const charts = await google.colab.kernel.invokeFunction(\n",
              "                'suggestCharts', [key], {});\n",
              "          } catch (error) {\n",
              "            console.error('Error during call to suggestCharts:', error);\n",
              "          }\n",
              "          quickchartButtonEl.classList.remove('colab-df-spinner');\n",
              "          quickchartButtonEl.classList.add('colab-df-quickchart-complete');\n",
              "        }\n",
              "        (() => {\n",
              "          let quickchartButtonEl =\n",
              "            document.querySelector('#df-e3a1d7e4-0512-474f-9616-ec87363d31a3 button');\n",
              "          quickchartButtonEl.style.display =\n",
              "            google.colab.kernel.accessAllowed ? 'block' : 'none';\n",
              "        })();\n",
              "      </script>\n",
              "    </div>\n",
              "\n",
              "  <div id=\"id_9116dc34-82f2-4029-a4da-ab6089622f67\">\n",
              "    <style>\n",
              "      .colab-df-generate {\n",
              "        background-color: #E8F0FE;\n",
              "        border: none;\n",
              "        border-radius: 50%;\n",
              "        cursor: pointer;\n",
              "        display: none;\n",
              "        fill: #1967D2;\n",
              "        height: 32px;\n",
              "        padding: 0 0 0 0;\n",
              "        width: 32px;\n",
              "      }\n",
              "\n",
              "      .colab-df-generate:hover {\n",
              "        background-color: #E2EBFA;\n",
              "        box-shadow: 0px 1px 2px rgba(60, 64, 67, 0.3), 0px 1px 3px 1px rgba(60, 64, 67, 0.15);\n",
              "        fill: #174EA6;\n",
              "      }\n",
              "\n",
              "      [theme=dark] .colab-df-generate {\n",
              "        background-color: #3B4455;\n",
              "        fill: #D2E3FC;\n",
              "      }\n",
              "\n",
              "      [theme=dark] .colab-df-generate:hover {\n",
              "        background-color: #434B5C;\n",
              "        box-shadow: 0px 1px 3px 1px rgba(0, 0, 0, 0.15);\n",
              "        filter: drop-shadow(0px 1px 2px rgba(0, 0, 0, 0.3));\n",
              "        fill: #FFFFFF;\n",
              "      }\n",
              "    </style>\n",
              "    <button class=\"colab-df-generate\" onclick=\"generateWithVariable('rev')\"\n",
              "            title=\"Generate code using this dataframe.\"\n",
              "            style=\"display:none;\">\n",
              "\n",
              "  <svg xmlns=\"http://www.w3.org/2000/svg\" height=\"24px\"viewBox=\"0 0 24 24\"\n",
              "       width=\"24px\">\n",
              "    <path d=\"M7,19H8.4L18.45,9,17,7.55,7,17.6ZM5,21V16.75L18.45,3.32a2,2,0,0,1,2.83,0l1.4,1.43a1.91,1.91,0,0,1,.58,1.4,1.91,1.91,0,0,1-.58,1.4L9.25,21ZM18.45,9,17,7.55Zm-12,3A5.31,5.31,0,0,0,4.9,8.1,5.31,5.31,0,0,0,1,6.5,5.31,5.31,0,0,0,4.9,4.9,5.31,5.31,0,0,0,6.5,1,5.31,5.31,0,0,0,8.1,4.9,5.31,5.31,0,0,0,12,6.5,5.46,5.46,0,0,0,6.5,12Z\"/>\n",
              "  </svg>\n",
              "    </button>\n",
              "    <script>\n",
              "      (() => {\n",
              "      const buttonEl =\n",
              "        document.querySelector('#id_9116dc34-82f2-4029-a4da-ab6089622f67 button.colab-df-generate');\n",
              "      buttonEl.style.display =\n",
              "        google.colab.kernel.accessAllowed ? 'block' : 'none';\n",
              "\n",
              "      buttonEl.onclick = () => {\n",
              "        google.colab.notebook.generateWithVariable('rev');\n",
              "      }\n",
              "      })();\n",
              "    </script>\n",
              "  </div>\n",
              "\n",
              "    </div>\n",
              "  </div>\n"
            ],
            "application/vnd.google.colaboratory.intrinsic+json": {
              "type": "dataframe",
              "variable_name": "rev"
            }
          },
          "metadata": {},
          "execution_count": 3
        }
      ],
      "source": [
        "rev"
      ]
    },
    {
      "cell_type": "code",
      "source": [
        "# import pandas as pd\n",
        "\n",
        "# # Assuming your dataframe is named 'df'\n",
        "\n",
        "# # Step 1: Rename columns\n",
        "# rev = rev.rename(columns={\n",
        "#     \"Score\": \"Rating\",\n",
        "#     \"Text\": \"Review\"\n",
        "# })\n",
        "\n",
        "# # Step 2: Drop unwanted columns\n",
        "# rev = rev.drop(columns=[\n",
        "#     \"HelpfulnessNumerator\",\n",
        "#     \"HelpfulnessDenominator\",\n",
        "#     \"Time\",\n",
        "#     \"Summary\",\n",
        "#     \"ProductId\"\n",
        "# ])\n",
        "\n",
        "# # Check the new dataframe structure\n",
        "# print(rev.head())\n"
      ],
      "metadata": {
        "id": "NqnCsdBOR6NG"
      },
      "execution_count": 48,
      "outputs": []
    },
    {
      "cell_type": "code",
      "execution_count": 4,
      "metadata": {
        "colab": {
          "base_uri": "https://localhost:8080/"
        },
        "id": "ChvIcDjouwqU",
        "outputId": "83d02732-e62d-4ea4-b405-c4c0ba600884"
      },
      "outputs": [
        {
          "output_type": "execute_result",
          "data": {
            "text/plain": [
              "(568454, 10)"
            ]
          },
          "metadata": {},
          "execution_count": 4
        }
      ],
      "source": [
        "\n",
        "# print(\"\\nDataFrame loaded. Summary:\")\n",
        "# print(\"Shape:\", df.shape)\n",
        "# display(df.head())\n",
        "# print(\"\\nInfo:\")\n",
        "# print(df.info())\n",
        "rev.shape"
      ]
    },
    {
      "cell_type": "code",
      "execution_count": 5,
      "metadata": {
        "colab": {
          "base_uri": "https://localhost:8080/"
        },
        "id": "8ij_NlAHBP8c",
        "outputId": "80b44c25-9fd3-40ad-b035-44bff08f8340"
      },
      "outputs": [
        {
          "output_type": "stream",
          "name": "stdout",
          "text": [
            "<class 'pandas.core.frame.DataFrame'>\n",
            "RangeIndex: 568454 entries, 0 to 568453\n",
            "Data columns (total 10 columns):\n",
            " #   Column                  Non-Null Count   Dtype \n",
            "---  ------                  --------------   ----- \n",
            " 0   Id                      568454 non-null  int64 \n",
            " 1   ProductId               568454 non-null  object\n",
            " 2   UserId                  568454 non-null  object\n",
            " 3   ProfileName             568428 non-null  object\n",
            " 4   HelpfulnessNumerator    568454 non-null  int64 \n",
            " 5   HelpfulnessDenominator  568454 non-null  int64 \n",
            " 6   Score                   568454 non-null  int64 \n",
            " 7   Time                    568454 non-null  int64 \n",
            " 8   Summary                 568427 non-null  object\n",
            " 9   Text                    568454 non-null  object\n",
            "dtypes: int64(5), object(5)\n",
            "memory usage: 43.4+ MB\n"
          ]
        }
      ],
      "source": [
        "rev.info()"
      ]
    },
    {
      "cell_type": "code",
      "execution_count": 6,
      "metadata": {
        "colab": {
          "base_uri": "https://localhost:8080/",
          "height": 293
        },
        "id": "Li36TjzOdHw4",
        "outputId": "8de115cd-7897-4c6c-d782-8a92c80c325e"
      },
      "outputs": [
        {
          "output_type": "execute_result",
          "data": {
            "text/plain": [
              "   Id   ProductId          UserId                      ProfileName  \\\n",
              "0   1  B001E4KFG0  A3SGXH7AUHU8GW                       delmartian   \n",
              "1   2  B00813GRG4  A1D87F6ZCVE5NK                           dll pa   \n",
              "2   3  B000LQOCH0   ABXLMWJIXXAIN  Natalia Corres \"Natalia Corres\"   \n",
              "3   4  B000UA0QIQ  A395BORC6FGVXV                             Karl   \n",
              "4   5  B006K2ZZ7K  A1UQRSCLF8GW1T    Michael D. Bigham \"M. Wassir\"   \n",
              "\n",
              "   HelpfulnessNumerator  HelpfulnessDenominator  Score        Time  \\\n",
              "0                     1                       1      5  1303862400   \n",
              "1                     0                       0      1  1346976000   \n",
              "2                     1                       1      4  1219017600   \n",
              "3                     3                       3      2  1307923200   \n",
              "4                     0                       0      5  1350777600   \n",
              "\n",
              "                 Summary                                               Text  \n",
              "0  Good Quality Dog Food  I have bought several of the Vitality canned d...  \n",
              "1      Not as Advertised  Product arrived labeled as Jumbo Salted Peanut...  \n",
              "2  \"Delight\" says it all  This is a confection that has been around a fe...  \n",
              "3         Cough Medicine  If you are looking for the secret ingredient i...  \n",
              "4            Great taffy  Great taffy at a great price.  There was a wid...  "
            ],
            "text/html": [
              "\n",
              "  <div id=\"df-26b78002-9476-41de-b438-1f142070565f\" class=\"colab-df-container\">\n",
              "    <div>\n",
              "<style scoped>\n",
              "    .dataframe tbody tr th:only-of-type {\n",
              "        vertical-align: middle;\n",
              "    }\n",
              "\n",
              "    .dataframe tbody tr th {\n",
              "        vertical-align: top;\n",
              "    }\n",
              "\n",
              "    .dataframe thead th {\n",
              "        text-align: right;\n",
              "    }\n",
              "</style>\n",
              "<table border=\"1\" class=\"dataframe\">\n",
              "  <thead>\n",
              "    <tr style=\"text-align: right;\">\n",
              "      <th></th>\n",
              "      <th>Id</th>\n",
              "      <th>ProductId</th>\n",
              "      <th>UserId</th>\n",
              "      <th>ProfileName</th>\n",
              "      <th>HelpfulnessNumerator</th>\n",
              "      <th>HelpfulnessDenominator</th>\n",
              "      <th>Score</th>\n",
              "      <th>Time</th>\n",
              "      <th>Summary</th>\n",
              "      <th>Text</th>\n",
              "    </tr>\n",
              "  </thead>\n",
              "  <tbody>\n",
              "    <tr>\n",
              "      <th>0</th>\n",
              "      <td>1</td>\n",
              "      <td>B001E4KFG0</td>\n",
              "      <td>A3SGXH7AUHU8GW</td>\n",
              "      <td>delmartian</td>\n",
              "      <td>1</td>\n",
              "      <td>1</td>\n",
              "      <td>5</td>\n",
              "      <td>1303862400</td>\n",
              "      <td>Good Quality Dog Food</td>\n",
              "      <td>I have bought several of the Vitality canned d...</td>\n",
              "    </tr>\n",
              "    <tr>\n",
              "      <th>1</th>\n",
              "      <td>2</td>\n",
              "      <td>B00813GRG4</td>\n",
              "      <td>A1D87F6ZCVE5NK</td>\n",
              "      <td>dll pa</td>\n",
              "      <td>0</td>\n",
              "      <td>0</td>\n",
              "      <td>1</td>\n",
              "      <td>1346976000</td>\n",
              "      <td>Not as Advertised</td>\n",
              "      <td>Product arrived labeled as Jumbo Salted Peanut...</td>\n",
              "    </tr>\n",
              "    <tr>\n",
              "      <th>2</th>\n",
              "      <td>3</td>\n",
              "      <td>B000LQOCH0</td>\n",
              "      <td>ABXLMWJIXXAIN</td>\n",
              "      <td>Natalia Corres \"Natalia Corres\"</td>\n",
              "      <td>1</td>\n",
              "      <td>1</td>\n",
              "      <td>4</td>\n",
              "      <td>1219017600</td>\n",
              "      <td>\"Delight\" says it all</td>\n",
              "      <td>This is a confection that has been around a fe...</td>\n",
              "    </tr>\n",
              "    <tr>\n",
              "      <th>3</th>\n",
              "      <td>4</td>\n",
              "      <td>B000UA0QIQ</td>\n",
              "      <td>A395BORC6FGVXV</td>\n",
              "      <td>Karl</td>\n",
              "      <td>3</td>\n",
              "      <td>3</td>\n",
              "      <td>2</td>\n",
              "      <td>1307923200</td>\n",
              "      <td>Cough Medicine</td>\n",
              "      <td>If you are looking for the secret ingredient i...</td>\n",
              "    </tr>\n",
              "    <tr>\n",
              "      <th>4</th>\n",
              "      <td>5</td>\n",
              "      <td>B006K2ZZ7K</td>\n",
              "      <td>A1UQRSCLF8GW1T</td>\n",
              "      <td>Michael D. Bigham \"M. Wassir\"</td>\n",
              "      <td>0</td>\n",
              "      <td>0</td>\n",
              "      <td>5</td>\n",
              "      <td>1350777600</td>\n",
              "      <td>Great taffy</td>\n",
              "      <td>Great taffy at a great price.  There was a wid...</td>\n",
              "    </tr>\n",
              "  </tbody>\n",
              "</table>\n",
              "</div>\n",
              "    <div class=\"colab-df-buttons\">\n",
              "\n",
              "  <div class=\"colab-df-container\">\n",
              "    <button class=\"colab-df-convert\" onclick=\"convertToInteractive('df-26b78002-9476-41de-b438-1f142070565f')\"\n",
              "            title=\"Convert this dataframe to an interactive table.\"\n",
              "            style=\"display:none;\">\n",
              "\n",
              "  <svg xmlns=\"http://www.w3.org/2000/svg\" height=\"24px\" viewBox=\"0 -960 960 960\">\n",
              "    <path d=\"M120-120v-720h720v720H120Zm60-500h600v-160H180v160Zm220 220h160v-160H400v160Zm0 220h160v-160H400v160ZM180-400h160v-160H180v160Zm440 0h160v-160H620v160ZM180-180h160v-160H180v160Zm440 0h160v-160H620v160Z\"/>\n",
              "  </svg>\n",
              "    </button>\n",
              "\n",
              "  <style>\n",
              "    .colab-df-container {\n",
              "      display:flex;\n",
              "      gap: 12px;\n",
              "    }\n",
              "\n",
              "    .colab-df-convert {\n",
              "      background-color: #E8F0FE;\n",
              "      border: none;\n",
              "      border-radius: 50%;\n",
              "      cursor: pointer;\n",
              "      display: none;\n",
              "      fill: #1967D2;\n",
              "      height: 32px;\n",
              "      padding: 0 0 0 0;\n",
              "      width: 32px;\n",
              "    }\n",
              "\n",
              "    .colab-df-convert:hover {\n",
              "      background-color: #E2EBFA;\n",
              "      box-shadow: 0px 1px 2px rgba(60, 64, 67, 0.3), 0px 1px 3px 1px rgba(60, 64, 67, 0.15);\n",
              "      fill: #174EA6;\n",
              "    }\n",
              "\n",
              "    .colab-df-buttons div {\n",
              "      margin-bottom: 4px;\n",
              "    }\n",
              "\n",
              "    [theme=dark] .colab-df-convert {\n",
              "      background-color: #3B4455;\n",
              "      fill: #D2E3FC;\n",
              "    }\n",
              "\n",
              "    [theme=dark] .colab-df-convert:hover {\n",
              "      background-color: #434B5C;\n",
              "      box-shadow: 0px 1px 3px 1px rgba(0, 0, 0, 0.15);\n",
              "      filter: drop-shadow(0px 1px 2px rgba(0, 0, 0, 0.3));\n",
              "      fill: #FFFFFF;\n",
              "    }\n",
              "  </style>\n",
              "\n",
              "    <script>\n",
              "      const buttonEl =\n",
              "        document.querySelector('#df-26b78002-9476-41de-b438-1f142070565f button.colab-df-convert');\n",
              "      buttonEl.style.display =\n",
              "        google.colab.kernel.accessAllowed ? 'block' : 'none';\n",
              "\n",
              "      async function convertToInteractive(key) {\n",
              "        const element = document.querySelector('#df-26b78002-9476-41de-b438-1f142070565f');\n",
              "        const dataTable =\n",
              "          await google.colab.kernel.invokeFunction('convertToInteractive',\n",
              "                                                    [key], {});\n",
              "        if (!dataTable) return;\n",
              "\n",
              "        const docLinkHtml = 'Like what you see? Visit the ' +\n",
              "          '<a target=\"_blank\" href=https://colab.research.google.com/notebooks/data_table.ipynb>data table notebook</a>'\n",
              "          + ' to learn more about interactive tables.';\n",
              "        element.innerHTML = '';\n",
              "        dataTable['output_type'] = 'display_data';\n",
              "        await google.colab.output.renderOutput(dataTable, element);\n",
              "        const docLink = document.createElement('div');\n",
              "        docLink.innerHTML = docLinkHtml;\n",
              "        element.appendChild(docLink);\n",
              "      }\n",
              "    </script>\n",
              "  </div>\n",
              "\n",
              "\n",
              "    <div id=\"df-c4a53fa9-f544-43a8-a739-9d4d2acfc131\">\n",
              "      <button class=\"colab-df-quickchart\" onclick=\"quickchart('df-c4a53fa9-f544-43a8-a739-9d4d2acfc131')\"\n",
              "                title=\"Suggest charts\"\n",
              "                style=\"display:none;\">\n",
              "\n",
              "<svg xmlns=\"http://www.w3.org/2000/svg\" height=\"24px\"viewBox=\"0 0 24 24\"\n",
              "     width=\"24px\">\n",
              "    <g>\n",
              "        <path d=\"M19 3H5c-1.1 0-2 .9-2 2v14c0 1.1.9 2 2 2h14c1.1 0 2-.9 2-2V5c0-1.1-.9-2-2-2zM9 17H7v-7h2v7zm4 0h-2V7h2v10zm4 0h-2v-4h2v4z\"/>\n",
              "    </g>\n",
              "</svg>\n",
              "      </button>\n",
              "\n",
              "<style>\n",
              "  .colab-df-quickchart {\n",
              "      --bg-color: #E8F0FE;\n",
              "      --fill-color: #1967D2;\n",
              "      --hover-bg-color: #E2EBFA;\n",
              "      --hover-fill-color: #174EA6;\n",
              "      --disabled-fill-color: #AAA;\n",
              "      --disabled-bg-color: #DDD;\n",
              "  }\n",
              "\n",
              "  [theme=dark] .colab-df-quickchart {\n",
              "      --bg-color: #3B4455;\n",
              "      --fill-color: #D2E3FC;\n",
              "      --hover-bg-color: #434B5C;\n",
              "      --hover-fill-color: #FFFFFF;\n",
              "      --disabled-bg-color: #3B4455;\n",
              "      --disabled-fill-color: #666;\n",
              "  }\n",
              "\n",
              "  .colab-df-quickchart {\n",
              "    background-color: var(--bg-color);\n",
              "    border: none;\n",
              "    border-radius: 50%;\n",
              "    cursor: pointer;\n",
              "    display: none;\n",
              "    fill: var(--fill-color);\n",
              "    height: 32px;\n",
              "    padding: 0;\n",
              "    width: 32px;\n",
              "  }\n",
              "\n",
              "  .colab-df-quickchart:hover {\n",
              "    background-color: var(--hover-bg-color);\n",
              "    box-shadow: 0 1px 2px rgba(60, 64, 67, 0.3), 0 1px 3px 1px rgba(60, 64, 67, 0.15);\n",
              "    fill: var(--button-hover-fill-color);\n",
              "  }\n",
              "\n",
              "  .colab-df-quickchart-complete:disabled,\n",
              "  .colab-df-quickchart-complete:disabled:hover {\n",
              "    background-color: var(--disabled-bg-color);\n",
              "    fill: var(--disabled-fill-color);\n",
              "    box-shadow: none;\n",
              "  }\n",
              "\n",
              "  .colab-df-spinner {\n",
              "    border: 2px solid var(--fill-color);\n",
              "    border-color: transparent;\n",
              "    border-bottom-color: var(--fill-color);\n",
              "    animation:\n",
              "      spin 1s steps(1) infinite;\n",
              "  }\n",
              "\n",
              "  @keyframes spin {\n",
              "    0% {\n",
              "      border-color: transparent;\n",
              "      border-bottom-color: var(--fill-color);\n",
              "      border-left-color: var(--fill-color);\n",
              "    }\n",
              "    20% {\n",
              "      border-color: transparent;\n",
              "      border-left-color: var(--fill-color);\n",
              "      border-top-color: var(--fill-color);\n",
              "    }\n",
              "    30% {\n",
              "      border-color: transparent;\n",
              "      border-left-color: var(--fill-color);\n",
              "      border-top-color: var(--fill-color);\n",
              "      border-right-color: var(--fill-color);\n",
              "    }\n",
              "    40% {\n",
              "      border-color: transparent;\n",
              "      border-right-color: var(--fill-color);\n",
              "      border-top-color: var(--fill-color);\n",
              "    }\n",
              "    60% {\n",
              "      border-color: transparent;\n",
              "      border-right-color: var(--fill-color);\n",
              "    }\n",
              "    80% {\n",
              "      border-color: transparent;\n",
              "      border-right-color: var(--fill-color);\n",
              "      border-bottom-color: var(--fill-color);\n",
              "    }\n",
              "    90% {\n",
              "      border-color: transparent;\n",
              "      border-bottom-color: var(--fill-color);\n",
              "    }\n",
              "  }\n",
              "</style>\n",
              "\n",
              "      <script>\n",
              "        async function quickchart(key) {\n",
              "          const quickchartButtonEl =\n",
              "            document.querySelector('#' + key + ' button');\n",
              "          quickchartButtonEl.disabled = true;  // To prevent multiple clicks.\n",
              "          quickchartButtonEl.classList.add('colab-df-spinner');\n",
              "          try {\n",
              "            const charts = await google.colab.kernel.invokeFunction(\n",
              "                'suggestCharts', [key], {});\n",
              "          } catch (error) {\n",
              "            console.error('Error during call to suggestCharts:', error);\n",
              "          }\n",
              "          quickchartButtonEl.classList.remove('colab-df-spinner');\n",
              "          quickchartButtonEl.classList.add('colab-df-quickchart-complete');\n",
              "        }\n",
              "        (() => {\n",
              "          let quickchartButtonEl =\n",
              "            document.querySelector('#df-c4a53fa9-f544-43a8-a739-9d4d2acfc131 button');\n",
              "          quickchartButtonEl.style.display =\n",
              "            google.colab.kernel.accessAllowed ? 'block' : 'none';\n",
              "        })();\n",
              "      </script>\n",
              "    </div>\n",
              "\n",
              "    </div>\n",
              "  </div>\n"
            ],
            "application/vnd.google.colaboratory.intrinsic+json": {
              "type": "dataframe",
              "variable_name": "rev"
            }
          },
          "metadata": {},
          "execution_count": 6
        }
      ],
      "source": [
        "rev.head()"
      ]
    },
    {
      "cell_type": "code",
      "execution_count": 7,
      "metadata": {
        "colab": {
          "base_uri": "https://localhost:8080/",
          "height": 397
        },
        "id": "Lb_SaUKSDgKY",
        "outputId": "b3bfb61a-d859-400d-ee72-7168fb0ade12"
      },
      "outputs": [
        {
          "output_type": "execute_result",
          "data": {
            "text/plain": [
              "Id                         0\n",
              "ProductId                  0\n",
              "UserId                     0\n",
              "ProfileName               26\n",
              "HelpfulnessNumerator       0\n",
              "HelpfulnessDenominator     0\n",
              "Score                      0\n",
              "Time                       0\n",
              "Summary                   27\n",
              "Text                       0\n",
              "dtype: int64"
            ],
            "text/html": [
              "<div>\n",
              "<style scoped>\n",
              "    .dataframe tbody tr th:only-of-type {\n",
              "        vertical-align: middle;\n",
              "    }\n",
              "\n",
              "    .dataframe tbody tr th {\n",
              "        vertical-align: top;\n",
              "    }\n",
              "\n",
              "    .dataframe thead th {\n",
              "        text-align: right;\n",
              "    }\n",
              "</style>\n",
              "<table border=\"1\" class=\"dataframe\">\n",
              "  <thead>\n",
              "    <tr style=\"text-align: right;\">\n",
              "      <th></th>\n",
              "      <th>0</th>\n",
              "    </tr>\n",
              "  </thead>\n",
              "  <tbody>\n",
              "    <tr>\n",
              "      <th>Id</th>\n",
              "      <td>0</td>\n",
              "    </tr>\n",
              "    <tr>\n",
              "      <th>ProductId</th>\n",
              "      <td>0</td>\n",
              "    </tr>\n",
              "    <tr>\n",
              "      <th>UserId</th>\n",
              "      <td>0</td>\n",
              "    </tr>\n",
              "    <tr>\n",
              "      <th>ProfileName</th>\n",
              "      <td>26</td>\n",
              "    </tr>\n",
              "    <tr>\n",
              "      <th>HelpfulnessNumerator</th>\n",
              "      <td>0</td>\n",
              "    </tr>\n",
              "    <tr>\n",
              "      <th>HelpfulnessDenominator</th>\n",
              "      <td>0</td>\n",
              "    </tr>\n",
              "    <tr>\n",
              "      <th>Score</th>\n",
              "      <td>0</td>\n",
              "    </tr>\n",
              "    <tr>\n",
              "      <th>Time</th>\n",
              "      <td>0</td>\n",
              "    </tr>\n",
              "    <tr>\n",
              "      <th>Summary</th>\n",
              "      <td>27</td>\n",
              "    </tr>\n",
              "    <tr>\n",
              "      <th>Text</th>\n",
              "      <td>0</td>\n",
              "    </tr>\n",
              "  </tbody>\n",
              "</table>\n",
              "</div><br><label><b>dtype:</b> int64</label>"
            ]
          },
          "metadata": {},
          "execution_count": 7
        }
      ],
      "source": [
        "rev.isna().sum()"
      ]
    },
    {
      "cell_type": "code",
      "execution_count": 50,
      "metadata": {
        "colab": {
          "base_uri": "https://localhost:8080/"
        },
        "id": "MOObFBtRDgEx",
        "outputId": "c6dee4da-9ee7-41f9-ac19-fa65c39aee22"
      },
      "outputs": [
        {
          "output_type": "stream",
          "name": "stdout",
          "text": [
            "Id                        0\n",
            "ProductId                 0\n",
            "UserId                    0\n",
            "ProfileName               0\n",
            "HelpfulnessNumerator      0\n",
            "HelpfulnessDenominator    0\n",
            "Score                     0\n",
            "Time                      0\n",
            "Summary                   0\n",
            "Text                      0\n",
            "dtype: int64\n",
            "   Id          UserId                      ProfileName  Rating  \\\n",
            "0   1  A3SGXH7AUHU8GW                       delmartian       5   \n",
            "1   2  A1D87F6ZCVE5NK                           dll pa       1   \n",
            "2   3   ABXLMWJIXXAIN  Natalia Corres \"Natalia Corres\"       4   \n",
            "3   4  A395BORC6FGVXV                             Karl       2   \n",
            "4   5  A1UQRSCLF8GW1T    Michael D. Bigham \"M. Wassir\"       5   \n",
            "\n",
            "                                              Review  \n",
            "0  I have bought several of the Vitality canned d...  \n",
            "1  Product arrived labeled as Jumbo Salted Peanut...  \n",
            "2  This is a confection that has been around a fe...  \n",
            "3  If you are looking for the secret ingredient i...  \n",
            "4  Great taffy at a great price.  There was a wid...  \n"
          ]
        }
      ],
      "source": [
        "\n",
        "\n",
        "# Example: loading your dataset\n",
        "rev = pd.read_csv(\"/content/drive/MyDrive/Reviews.csv.zip\")\n",
        "\n",
        "# Remove rows where ProfileName or Summary is null\n",
        "rev = rev.dropna(subset=['ProfileName', 'Summary'])\n",
        "\n",
        "# Optional: check if null values are removed\n",
        "print(rev.isnull().sum())\n",
        "\n",
        "# Save cleaned data\n",
        "rev.to_csv(\"cleaned_file.csv\", index=False)\n",
        "\n",
        "import pandas as pd\n",
        "\n",
        "# Assuming your dataframe is named 'df'\n",
        "\n",
        "# Step 1: Rename columns\n",
        "rev = rev.rename(columns={\n",
        "    \"Score\": \"Rating\",\n",
        "    \"Text\": \"Review\"\n",
        "})\n",
        "\n",
        "# Step 2: Drop unwanted columns\n",
        "rev = rev.drop(columns=[\n",
        "    \"HelpfulnessNumerator\",\n",
        "    \"HelpfulnessDenominator\",\n",
        "    \"Time\",\n",
        "    \"Summary\",\n",
        "    \"ProductId\"\n",
        "])\n",
        "\n",
        "# Check the new dataframe structure\n",
        "print(rev.head())\n"
      ]
    },
    {
      "cell_type": "code",
      "execution_count": 51,
      "metadata": {
        "colab": {
          "base_uri": "https://localhost:8080/"
        },
        "id": "zrIKIBEQF4qy",
        "outputId": "d3868985-2fab-4610-cecc-70088447177f"
      },
      "outputs": [
        {
          "output_type": "stream",
          "name": "stdout",
          "text": [
            "<class 'pandas.core.frame.DataFrame'>\n",
            "Index: 568401 entries, 0 to 568453\n",
            "Data columns (total 5 columns):\n",
            " #   Column       Non-Null Count   Dtype \n",
            "---  ------       --------------   ----- \n",
            " 0   Id           568401 non-null  int64 \n",
            " 1   UserId       568401 non-null  object\n",
            " 2   ProfileName  568401 non-null  object\n",
            " 3   Rating       568401 non-null  int64 \n",
            " 4   Review       568401 non-null  object\n",
            "dtypes: int64(2), object(3)\n",
            "memory usage: 26.0+ MB\n"
          ]
        }
      ],
      "source": [
        "rev.info()"
      ]
    },
    {
      "cell_type": "code",
      "execution_count": 53,
      "metadata": {
        "id": "WaWOpjOQ1EvX"
      },
      "outputs": [],
      "source": [
        "rev = rev.dropna()\n",
        "rev = rev.dropna(subset=['ProfileName', 'Review'])\n"
      ]
    },
    {
      "cell_type": "code",
      "execution_count": 54,
      "metadata": {
        "id": "IHfc5iL61RtF"
      },
      "outputs": [],
      "source": [
        "rev['ProfileName'] = rev['ProfileName'].fillna('Unknown User')\n",
        "rev['Review'] = rev['Review'].fillna('No Review')\n"
      ]
    },
    {
      "cell_type": "code",
      "execution_count": 55,
      "metadata": {
        "colab": {
          "base_uri": "https://localhost:8080/"
        },
        "id": "9ODtbvPh1T6M",
        "outputId": "b5cd559c-72fe-4884-d484-dad90ffe92c8"
      },
      "outputs": [
        {
          "output_type": "stream",
          "name": "stdout",
          "text": [
            "<class 'pandas.core.frame.DataFrame'>\n",
            "Index: 568401 entries, 0 to 568453\n",
            "Data columns (total 5 columns):\n",
            " #   Column       Non-Null Count   Dtype \n",
            "---  ------       --------------   ----- \n",
            " 0   Id           568401 non-null  int64 \n",
            " 1   UserId       568401 non-null  object\n",
            " 2   ProfileName  568401 non-null  object\n",
            " 3   Rating       568401 non-null  int64 \n",
            " 4   Review       568401 non-null  object\n",
            "dtypes: int64(2), object(3)\n",
            "memory usage: 26.0+ MB\n"
          ]
        }
      ],
      "source": [
        "rev.info()"
      ]
    },
    {
      "cell_type": "code",
      "execution_count": 56,
      "metadata": {
        "colab": {
          "base_uri": "https://localhost:8080/",
          "height": 300
        },
        "id": "NYXBJc7M1B1x",
        "outputId": "1b687e41-e4b3-47e0-b5d6-fa1e40352608"
      },
      "outputs": [
        {
          "output_type": "execute_result",
          "data": {
            "text/plain": [
              "                  Id         Rating\n",
              "count  568401.000000  568401.000000\n",
              "mean   284228.120582       4.183297\n",
              "std    164098.955187       1.310376\n",
              "min         1.000000       1.000000\n",
              "25%    142116.000000       4.000000\n",
              "50%    284225.000000       5.000000\n",
              "75%    426342.000000       5.000000\n",
              "max    568454.000000       5.000000"
            ],
            "text/html": [
              "\n",
              "  <div id=\"df-e1f2663f-1366-4ca7-b085-f565fb732b4f\" class=\"colab-df-container\">\n",
              "    <div>\n",
              "<style scoped>\n",
              "    .dataframe tbody tr th:only-of-type {\n",
              "        vertical-align: middle;\n",
              "    }\n",
              "\n",
              "    .dataframe tbody tr th {\n",
              "        vertical-align: top;\n",
              "    }\n",
              "\n",
              "    .dataframe thead th {\n",
              "        text-align: right;\n",
              "    }\n",
              "</style>\n",
              "<table border=\"1\" class=\"dataframe\">\n",
              "  <thead>\n",
              "    <tr style=\"text-align: right;\">\n",
              "      <th></th>\n",
              "      <th>Id</th>\n",
              "      <th>Rating</th>\n",
              "    </tr>\n",
              "  </thead>\n",
              "  <tbody>\n",
              "    <tr>\n",
              "      <th>count</th>\n",
              "      <td>568401.000000</td>\n",
              "      <td>568401.000000</td>\n",
              "    </tr>\n",
              "    <tr>\n",
              "      <th>mean</th>\n",
              "      <td>284228.120582</td>\n",
              "      <td>4.183297</td>\n",
              "    </tr>\n",
              "    <tr>\n",
              "      <th>std</th>\n",
              "      <td>164098.955187</td>\n",
              "      <td>1.310376</td>\n",
              "    </tr>\n",
              "    <tr>\n",
              "      <th>min</th>\n",
              "      <td>1.000000</td>\n",
              "      <td>1.000000</td>\n",
              "    </tr>\n",
              "    <tr>\n",
              "      <th>25%</th>\n",
              "      <td>142116.000000</td>\n",
              "      <td>4.000000</td>\n",
              "    </tr>\n",
              "    <tr>\n",
              "      <th>50%</th>\n",
              "      <td>284225.000000</td>\n",
              "      <td>5.000000</td>\n",
              "    </tr>\n",
              "    <tr>\n",
              "      <th>75%</th>\n",
              "      <td>426342.000000</td>\n",
              "      <td>5.000000</td>\n",
              "    </tr>\n",
              "    <tr>\n",
              "      <th>max</th>\n",
              "      <td>568454.000000</td>\n",
              "      <td>5.000000</td>\n",
              "    </tr>\n",
              "  </tbody>\n",
              "</table>\n",
              "</div>\n",
              "    <div class=\"colab-df-buttons\">\n",
              "\n",
              "  <div class=\"colab-df-container\">\n",
              "    <button class=\"colab-df-convert\" onclick=\"convertToInteractive('df-e1f2663f-1366-4ca7-b085-f565fb732b4f')\"\n",
              "            title=\"Convert this dataframe to an interactive table.\"\n",
              "            style=\"display:none;\">\n",
              "\n",
              "  <svg xmlns=\"http://www.w3.org/2000/svg\" height=\"24px\" viewBox=\"0 -960 960 960\">\n",
              "    <path d=\"M120-120v-720h720v720H120Zm60-500h600v-160H180v160Zm220 220h160v-160H400v160Zm0 220h160v-160H400v160ZM180-400h160v-160H180v160Zm440 0h160v-160H620v160ZM180-180h160v-160H180v160Zm440 0h160v-160H620v160Z\"/>\n",
              "  </svg>\n",
              "    </button>\n",
              "\n",
              "  <style>\n",
              "    .colab-df-container {\n",
              "      display:flex;\n",
              "      gap: 12px;\n",
              "    }\n",
              "\n",
              "    .colab-df-convert {\n",
              "      background-color: #E8F0FE;\n",
              "      border: none;\n",
              "      border-radius: 50%;\n",
              "      cursor: pointer;\n",
              "      display: none;\n",
              "      fill: #1967D2;\n",
              "      height: 32px;\n",
              "      padding: 0 0 0 0;\n",
              "      width: 32px;\n",
              "    }\n",
              "\n",
              "    .colab-df-convert:hover {\n",
              "      background-color: #E2EBFA;\n",
              "      box-shadow: 0px 1px 2px rgba(60, 64, 67, 0.3), 0px 1px 3px 1px rgba(60, 64, 67, 0.15);\n",
              "      fill: #174EA6;\n",
              "    }\n",
              "\n",
              "    .colab-df-buttons div {\n",
              "      margin-bottom: 4px;\n",
              "    }\n",
              "\n",
              "    [theme=dark] .colab-df-convert {\n",
              "      background-color: #3B4455;\n",
              "      fill: #D2E3FC;\n",
              "    }\n",
              "\n",
              "    [theme=dark] .colab-df-convert:hover {\n",
              "      background-color: #434B5C;\n",
              "      box-shadow: 0px 1px 3px 1px rgba(0, 0, 0, 0.15);\n",
              "      filter: drop-shadow(0px 1px 2px rgba(0, 0, 0, 0.3));\n",
              "      fill: #FFFFFF;\n",
              "    }\n",
              "  </style>\n",
              "\n",
              "    <script>\n",
              "      const buttonEl =\n",
              "        document.querySelector('#df-e1f2663f-1366-4ca7-b085-f565fb732b4f button.colab-df-convert');\n",
              "      buttonEl.style.display =\n",
              "        google.colab.kernel.accessAllowed ? 'block' : 'none';\n",
              "\n",
              "      async function convertToInteractive(key) {\n",
              "        const element = document.querySelector('#df-e1f2663f-1366-4ca7-b085-f565fb732b4f');\n",
              "        const dataTable =\n",
              "          await google.colab.kernel.invokeFunction('convertToInteractive',\n",
              "                                                    [key], {});\n",
              "        if (!dataTable) return;\n",
              "\n",
              "        const docLinkHtml = 'Like what you see? Visit the ' +\n",
              "          '<a target=\"_blank\" href=https://colab.research.google.com/notebooks/data_table.ipynb>data table notebook</a>'\n",
              "          + ' to learn more about interactive tables.';\n",
              "        element.innerHTML = '';\n",
              "        dataTable['output_type'] = 'display_data';\n",
              "        await google.colab.output.renderOutput(dataTable, element);\n",
              "        const docLink = document.createElement('div');\n",
              "        docLink.innerHTML = docLinkHtml;\n",
              "        element.appendChild(docLink);\n",
              "      }\n",
              "    </script>\n",
              "  </div>\n",
              "\n",
              "\n",
              "    <div id=\"df-95b0c335-732d-4e7a-b7da-3805e75500ba\">\n",
              "      <button class=\"colab-df-quickchart\" onclick=\"quickchart('df-95b0c335-732d-4e7a-b7da-3805e75500ba')\"\n",
              "                title=\"Suggest charts\"\n",
              "                style=\"display:none;\">\n",
              "\n",
              "<svg xmlns=\"http://www.w3.org/2000/svg\" height=\"24px\"viewBox=\"0 0 24 24\"\n",
              "     width=\"24px\">\n",
              "    <g>\n",
              "        <path d=\"M19 3H5c-1.1 0-2 .9-2 2v14c0 1.1.9 2 2 2h14c1.1 0 2-.9 2-2V5c0-1.1-.9-2-2-2zM9 17H7v-7h2v7zm4 0h-2V7h2v10zm4 0h-2v-4h2v4z\"/>\n",
              "    </g>\n",
              "</svg>\n",
              "      </button>\n",
              "\n",
              "<style>\n",
              "  .colab-df-quickchart {\n",
              "      --bg-color: #E8F0FE;\n",
              "      --fill-color: #1967D2;\n",
              "      --hover-bg-color: #E2EBFA;\n",
              "      --hover-fill-color: #174EA6;\n",
              "      --disabled-fill-color: #AAA;\n",
              "      --disabled-bg-color: #DDD;\n",
              "  }\n",
              "\n",
              "  [theme=dark] .colab-df-quickchart {\n",
              "      --bg-color: #3B4455;\n",
              "      --fill-color: #D2E3FC;\n",
              "      --hover-bg-color: #434B5C;\n",
              "      --hover-fill-color: #FFFFFF;\n",
              "      --disabled-bg-color: #3B4455;\n",
              "      --disabled-fill-color: #666;\n",
              "  }\n",
              "\n",
              "  .colab-df-quickchart {\n",
              "    background-color: var(--bg-color);\n",
              "    border: none;\n",
              "    border-radius: 50%;\n",
              "    cursor: pointer;\n",
              "    display: none;\n",
              "    fill: var(--fill-color);\n",
              "    height: 32px;\n",
              "    padding: 0;\n",
              "    width: 32px;\n",
              "  }\n",
              "\n",
              "  .colab-df-quickchart:hover {\n",
              "    background-color: var(--hover-bg-color);\n",
              "    box-shadow: 0 1px 2px rgba(60, 64, 67, 0.3), 0 1px 3px 1px rgba(60, 64, 67, 0.15);\n",
              "    fill: var(--button-hover-fill-color);\n",
              "  }\n",
              "\n",
              "  .colab-df-quickchart-complete:disabled,\n",
              "  .colab-df-quickchart-complete:disabled:hover {\n",
              "    background-color: var(--disabled-bg-color);\n",
              "    fill: var(--disabled-fill-color);\n",
              "    box-shadow: none;\n",
              "  }\n",
              "\n",
              "  .colab-df-spinner {\n",
              "    border: 2px solid var(--fill-color);\n",
              "    border-color: transparent;\n",
              "    border-bottom-color: var(--fill-color);\n",
              "    animation:\n",
              "      spin 1s steps(1) infinite;\n",
              "  }\n",
              "\n",
              "  @keyframes spin {\n",
              "    0% {\n",
              "      border-color: transparent;\n",
              "      border-bottom-color: var(--fill-color);\n",
              "      border-left-color: var(--fill-color);\n",
              "    }\n",
              "    20% {\n",
              "      border-color: transparent;\n",
              "      border-left-color: var(--fill-color);\n",
              "      border-top-color: var(--fill-color);\n",
              "    }\n",
              "    30% {\n",
              "      border-color: transparent;\n",
              "      border-left-color: var(--fill-color);\n",
              "      border-top-color: var(--fill-color);\n",
              "      border-right-color: var(--fill-color);\n",
              "    }\n",
              "    40% {\n",
              "      border-color: transparent;\n",
              "      border-right-color: var(--fill-color);\n",
              "      border-top-color: var(--fill-color);\n",
              "    }\n",
              "    60% {\n",
              "      border-color: transparent;\n",
              "      border-right-color: var(--fill-color);\n",
              "    }\n",
              "    80% {\n",
              "      border-color: transparent;\n",
              "      border-right-color: var(--fill-color);\n",
              "      border-bottom-color: var(--fill-color);\n",
              "    }\n",
              "    90% {\n",
              "      border-color: transparent;\n",
              "      border-bottom-color: var(--fill-color);\n",
              "    }\n",
              "  }\n",
              "</style>\n",
              "\n",
              "      <script>\n",
              "        async function quickchart(key) {\n",
              "          const quickchartButtonEl =\n",
              "            document.querySelector('#' + key + ' button');\n",
              "          quickchartButtonEl.disabled = true;  // To prevent multiple clicks.\n",
              "          quickchartButtonEl.classList.add('colab-df-spinner');\n",
              "          try {\n",
              "            const charts = await google.colab.kernel.invokeFunction(\n",
              "                'suggestCharts', [key], {});\n",
              "          } catch (error) {\n",
              "            console.error('Error during call to suggestCharts:', error);\n",
              "          }\n",
              "          quickchartButtonEl.classList.remove('colab-df-spinner');\n",
              "          quickchartButtonEl.classList.add('colab-df-quickchart-complete');\n",
              "        }\n",
              "        (() => {\n",
              "          let quickchartButtonEl =\n",
              "            document.querySelector('#df-95b0c335-732d-4e7a-b7da-3805e75500ba button');\n",
              "          quickchartButtonEl.style.display =\n",
              "            google.colab.kernel.accessAllowed ? 'block' : 'none';\n",
              "        })();\n",
              "      </script>\n",
              "    </div>\n",
              "\n",
              "    </div>\n",
              "  </div>\n"
            ],
            "application/vnd.google.colaboratory.intrinsic+json": {
              "type": "dataframe",
              "summary": "{\n  \"name\": \"rev\",\n  \"rows\": 8,\n  \"fields\": [\n    {\n      \"column\": \"Id\",\n      \"properties\": {\n        \"dtype\": \"number\",\n        \"std\": 204863.4291294723,\n        \"min\": 1.0,\n        \"max\": 568454.0,\n        \"num_unique_values\": 8,\n        \"samples\": [\n          284228.1205821242,\n          284225.0,\n          568401.0\n        ],\n        \"semantic_type\": \"\",\n        \"description\": \"\"\n      }\n    },\n    {\n      \"column\": \"Rating\",\n      \"properties\": {\n        \"dtype\": \"number\",\n        \"std\": 200958.813148229,\n        \"min\": 1.0,\n        \"max\": 568401.0,\n        \"num_unique_values\": 6,\n        \"samples\": [\n          568401.0,\n          4.183296651483723,\n          5.0\n        ],\n        \"semantic_type\": \"\",\n        \"description\": \"\"\n      }\n    }\n  ]\n}"
            }
          },
          "metadata": {},
          "execution_count": 56
        }
      ],
      "source": [
        "rev.describe()"
      ]
    },
    {
      "cell_type": "code",
      "execution_count": 57,
      "metadata": {
        "colab": {
          "base_uri": "https://localhost:8080/",
          "height": 394
        },
        "id": "5FgysbirA6YL",
        "outputId": "2ff0f6a9-b8bf-46f4-aaa7-2d856e4b5e97"
      },
      "outputs": [
        {
          "output_type": "execute_result",
          "data": {
            "text/plain": [
              "    Id          UserId                      ProfileName  Rating  \\\n",
              "0    1  A3SGXH7AUHU8GW                       delmartian       5   \n",
              "1    2  A1D87F6ZCVE5NK                           dll pa       1   \n",
              "2    3   ABXLMWJIXXAIN  Natalia Corres \"Natalia Corres\"       4   \n",
              "3    4  A395BORC6FGVXV                             Karl       2   \n",
              "4    5  A1UQRSCLF8GW1T    Michael D. Bigham \"M. Wassir\"       5   \n",
              "5    6   ADT0SRK1MGOEU                   Twoapennything       4   \n",
              "6    7  A1SP2KVKFXXRU1                David C. Sullivan       5   \n",
              "7    8  A3JRGQVEQN31IQ               Pamela G. Williams       5   \n",
              "8    9  A1MZYO9TZK0BBI                         R. James       5   \n",
              "9   10  A21BT40VZCCYT4                    Carol A. Reed       5   \n",
              "10  11  A3HDKO7OW0QNK4                     Canadian Fan       5   \n",
              "\n",
              "                                               Review  \n",
              "0   I have bought several of the Vitality canned d...  \n",
              "1   Product arrived labeled as Jumbo Salted Peanut...  \n",
              "2   This is a confection that has been around a fe...  \n",
              "3   If you are looking for the secret ingredient i...  \n",
              "4   Great taffy at a great price.  There was a wid...  \n",
              "5   I got a wild hair for taffy and ordered this f...  \n",
              "6   This saltwater taffy had great flavors and was...  \n",
              "7   This taffy is so good.  It is very soft and ch...  \n",
              "8   Right now I'm mostly just sprouting this so my...  \n",
              "9   This is a very healthy dog food. Good for thei...  \n",
              "10  I don't know if it's the cactus or the tequila...  "
            ],
            "text/html": [
              "\n",
              "  <div id=\"df-e86c6274-838d-42b1-926f-d59774e04008\" class=\"colab-df-container\">\n",
              "    <div>\n",
              "<style scoped>\n",
              "    .dataframe tbody tr th:only-of-type {\n",
              "        vertical-align: middle;\n",
              "    }\n",
              "\n",
              "    .dataframe tbody tr th {\n",
              "        vertical-align: top;\n",
              "    }\n",
              "\n",
              "    .dataframe thead th {\n",
              "        text-align: right;\n",
              "    }\n",
              "</style>\n",
              "<table border=\"1\" class=\"dataframe\">\n",
              "  <thead>\n",
              "    <tr style=\"text-align: right;\">\n",
              "      <th></th>\n",
              "      <th>Id</th>\n",
              "      <th>UserId</th>\n",
              "      <th>ProfileName</th>\n",
              "      <th>Rating</th>\n",
              "      <th>Review</th>\n",
              "    </tr>\n",
              "  </thead>\n",
              "  <tbody>\n",
              "    <tr>\n",
              "      <th>0</th>\n",
              "      <td>1</td>\n",
              "      <td>A3SGXH7AUHU8GW</td>\n",
              "      <td>delmartian</td>\n",
              "      <td>5</td>\n",
              "      <td>I have bought several of the Vitality canned d...</td>\n",
              "    </tr>\n",
              "    <tr>\n",
              "      <th>1</th>\n",
              "      <td>2</td>\n",
              "      <td>A1D87F6ZCVE5NK</td>\n",
              "      <td>dll pa</td>\n",
              "      <td>1</td>\n",
              "      <td>Product arrived labeled as Jumbo Salted Peanut...</td>\n",
              "    </tr>\n",
              "    <tr>\n",
              "      <th>2</th>\n",
              "      <td>3</td>\n",
              "      <td>ABXLMWJIXXAIN</td>\n",
              "      <td>Natalia Corres \"Natalia Corres\"</td>\n",
              "      <td>4</td>\n",
              "      <td>This is a confection that has been around a fe...</td>\n",
              "    </tr>\n",
              "    <tr>\n",
              "      <th>3</th>\n",
              "      <td>4</td>\n",
              "      <td>A395BORC6FGVXV</td>\n",
              "      <td>Karl</td>\n",
              "      <td>2</td>\n",
              "      <td>If you are looking for the secret ingredient i...</td>\n",
              "    </tr>\n",
              "    <tr>\n",
              "      <th>4</th>\n",
              "      <td>5</td>\n",
              "      <td>A1UQRSCLF8GW1T</td>\n",
              "      <td>Michael D. Bigham \"M. Wassir\"</td>\n",
              "      <td>5</td>\n",
              "      <td>Great taffy at a great price.  There was a wid...</td>\n",
              "    </tr>\n",
              "    <tr>\n",
              "      <th>5</th>\n",
              "      <td>6</td>\n",
              "      <td>ADT0SRK1MGOEU</td>\n",
              "      <td>Twoapennything</td>\n",
              "      <td>4</td>\n",
              "      <td>I got a wild hair for taffy and ordered this f...</td>\n",
              "    </tr>\n",
              "    <tr>\n",
              "      <th>6</th>\n",
              "      <td>7</td>\n",
              "      <td>A1SP2KVKFXXRU1</td>\n",
              "      <td>David C. Sullivan</td>\n",
              "      <td>5</td>\n",
              "      <td>This saltwater taffy had great flavors and was...</td>\n",
              "    </tr>\n",
              "    <tr>\n",
              "      <th>7</th>\n",
              "      <td>8</td>\n",
              "      <td>A3JRGQVEQN31IQ</td>\n",
              "      <td>Pamela G. Williams</td>\n",
              "      <td>5</td>\n",
              "      <td>This taffy is so good.  It is very soft and ch...</td>\n",
              "    </tr>\n",
              "    <tr>\n",
              "      <th>8</th>\n",
              "      <td>9</td>\n",
              "      <td>A1MZYO9TZK0BBI</td>\n",
              "      <td>R. James</td>\n",
              "      <td>5</td>\n",
              "      <td>Right now I'm mostly just sprouting this so my...</td>\n",
              "    </tr>\n",
              "    <tr>\n",
              "      <th>9</th>\n",
              "      <td>10</td>\n",
              "      <td>A21BT40VZCCYT4</td>\n",
              "      <td>Carol A. Reed</td>\n",
              "      <td>5</td>\n",
              "      <td>This is a very healthy dog food. Good for thei...</td>\n",
              "    </tr>\n",
              "    <tr>\n",
              "      <th>10</th>\n",
              "      <td>11</td>\n",
              "      <td>A3HDKO7OW0QNK4</td>\n",
              "      <td>Canadian Fan</td>\n",
              "      <td>5</td>\n",
              "      <td>I don't know if it's the cactus or the tequila...</td>\n",
              "    </tr>\n",
              "  </tbody>\n",
              "</table>\n",
              "</div>\n",
              "    <div class=\"colab-df-buttons\">\n",
              "\n",
              "  <div class=\"colab-df-container\">\n",
              "    <button class=\"colab-df-convert\" onclick=\"convertToInteractive('df-e86c6274-838d-42b1-926f-d59774e04008')\"\n",
              "            title=\"Convert this dataframe to an interactive table.\"\n",
              "            style=\"display:none;\">\n",
              "\n",
              "  <svg xmlns=\"http://www.w3.org/2000/svg\" height=\"24px\" viewBox=\"0 -960 960 960\">\n",
              "    <path d=\"M120-120v-720h720v720H120Zm60-500h600v-160H180v160Zm220 220h160v-160H400v160Zm0 220h160v-160H400v160ZM180-400h160v-160H180v160Zm440 0h160v-160H620v160ZM180-180h160v-160H180v160Zm440 0h160v-160H620v160Z\"/>\n",
              "  </svg>\n",
              "    </button>\n",
              "\n",
              "  <style>\n",
              "    .colab-df-container {\n",
              "      display:flex;\n",
              "      gap: 12px;\n",
              "    }\n",
              "\n",
              "    .colab-df-convert {\n",
              "      background-color: #E8F0FE;\n",
              "      border: none;\n",
              "      border-radius: 50%;\n",
              "      cursor: pointer;\n",
              "      display: none;\n",
              "      fill: #1967D2;\n",
              "      height: 32px;\n",
              "      padding: 0 0 0 0;\n",
              "      width: 32px;\n",
              "    }\n",
              "\n",
              "    .colab-df-convert:hover {\n",
              "      background-color: #E2EBFA;\n",
              "      box-shadow: 0px 1px 2px rgba(60, 64, 67, 0.3), 0px 1px 3px 1px rgba(60, 64, 67, 0.15);\n",
              "      fill: #174EA6;\n",
              "    }\n",
              "\n",
              "    .colab-df-buttons div {\n",
              "      margin-bottom: 4px;\n",
              "    }\n",
              "\n",
              "    [theme=dark] .colab-df-convert {\n",
              "      background-color: #3B4455;\n",
              "      fill: #D2E3FC;\n",
              "    }\n",
              "\n",
              "    [theme=dark] .colab-df-convert:hover {\n",
              "      background-color: #434B5C;\n",
              "      box-shadow: 0px 1px 3px 1px rgba(0, 0, 0, 0.15);\n",
              "      filter: drop-shadow(0px 1px 2px rgba(0, 0, 0, 0.3));\n",
              "      fill: #FFFFFF;\n",
              "    }\n",
              "  </style>\n",
              "\n",
              "    <script>\n",
              "      const buttonEl =\n",
              "        document.querySelector('#df-e86c6274-838d-42b1-926f-d59774e04008 button.colab-df-convert');\n",
              "      buttonEl.style.display =\n",
              "        google.colab.kernel.accessAllowed ? 'block' : 'none';\n",
              "\n",
              "      async function convertToInteractive(key) {\n",
              "        const element = document.querySelector('#df-e86c6274-838d-42b1-926f-d59774e04008');\n",
              "        const dataTable =\n",
              "          await google.colab.kernel.invokeFunction('convertToInteractive',\n",
              "                                                    [key], {});\n",
              "        if (!dataTable) return;\n",
              "\n",
              "        const docLinkHtml = 'Like what you see? Visit the ' +\n",
              "          '<a target=\"_blank\" href=https://colab.research.google.com/notebooks/data_table.ipynb>data table notebook</a>'\n",
              "          + ' to learn more about interactive tables.';\n",
              "        element.innerHTML = '';\n",
              "        dataTable['output_type'] = 'display_data';\n",
              "        await google.colab.output.renderOutput(dataTable, element);\n",
              "        const docLink = document.createElement('div');\n",
              "        docLink.innerHTML = docLinkHtml;\n",
              "        element.appendChild(docLink);\n",
              "      }\n",
              "    </script>\n",
              "  </div>\n",
              "\n",
              "\n",
              "    <div id=\"df-3a7dd456-13f3-4eee-9a57-5e5d8ac6f516\">\n",
              "      <button class=\"colab-df-quickchart\" onclick=\"quickchart('df-3a7dd456-13f3-4eee-9a57-5e5d8ac6f516')\"\n",
              "                title=\"Suggest charts\"\n",
              "                style=\"display:none;\">\n",
              "\n",
              "<svg xmlns=\"http://www.w3.org/2000/svg\" height=\"24px\"viewBox=\"0 0 24 24\"\n",
              "     width=\"24px\">\n",
              "    <g>\n",
              "        <path d=\"M19 3H5c-1.1 0-2 .9-2 2v14c0 1.1.9 2 2 2h14c1.1 0 2-.9 2-2V5c0-1.1-.9-2-2-2zM9 17H7v-7h2v7zm4 0h-2V7h2v10zm4 0h-2v-4h2v4z\"/>\n",
              "    </g>\n",
              "</svg>\n",
              "      </button>\n",
              "\n",
              "<style>\n",
              "  .colab-df-quickchart {\n",
              "      --bg-color: #E8F0FE;\n",
              "      --fill-color: #1967D2;\n",
              "      --hover-bg-color: #E2EBFA;\n",
              "      --hover-fill-color: #174EA6;\n",
              "      --disabled-fill-color: #AAA;\n",
              "      --disabled-bg-color: #DDD;\n",
              "  }\n",
              "\n",
              "  [theme=dark] .colab-df-quickchart {\n",
              "      --bg-color: #3B4455;\n",
              "      --fill-color: #D2E3FC;\n",
              "      --hover-bg-color: #434B5C;\n",
              "      --hover-fill-color: #FFFFFF;\n",
              "      --disabled-bg-color: #3B4455;\n",
              "      --disabled-fill-color: #666;\n",
              "  }\n",
              "\n",
              "  .colab-df-quickchart {\n",
              "    background-color: var(--bg-color);\n",
              "    border: none;\n",
              "    border-radius: 50%;\n",
              "    cursor: pointer;\n",
              "    display: none;\n",
              "    fill: var(--fill-color);\n",
              "    height: 32px;\n",
              "    padding: 0;\n",
              "    width: 32px;\n",
              "  }\n",
              "\n",
              "  .colab-df-quickchart:hover {\n",
              "    background-color: var(--hover-bg-color);\n",
              "    box-shadow: 0 1px 2px rgba(60, 64, 67, 0.3), 0 1px 3px 1px rgba(60, 64, 67, 0.15);\n",
              "    fill: var(--button-hover-fill-color);\n",
              "  }\n",
              "\n",
              "  .colab-df-quickchart-complete:disabled,\n",
              "  .colab-df-quickchart-complete:disabled:hover {\n",
              "    background-color: var(--disabled-bg-color);\n",
              "    fill: var(--disabled-fill-color);\n",
              "    box-shadow: none;\n",
              "  }\n",
              "\n",
              "  .colab-df-spinner {\n",
              "    border: 2px solid var(--fill-color);\n",
              "    border-color: transparent;\n",
              "    border-bottom-color: var(--fill-color);\n",
              "    animation:\n",
              "      spin 1s steps(1) infinite;\n",
              "  }\n",
              "\n",
              "  @keyframes spin {\n",
              "    0% {\n",
              "      border-color: transparent;\n",
              "      border-bottom-color: var(--fill-color);\n",
              "      border-left-color: var(--fill-color);\n",
              "    }\n",
              "    20% {\n",
              "      border-color: transparent;\n",
              "      border-left-color: var(--fill-color);\n",
              "      border-top-color: var(--fill-color);\n",
              "    }\n",
              "    30% {\n",
              "      border-color: transparent;\n",
              "      border-left-color: var(--fill-color);\n",
              "      border-top-color: var(--fill-color);\n",
              "      border-right-color: var(--fill-color);\n",
              "    }\n",
              "    40% {\n",
              "      border-color: transparent;\n",
              "      border-right-color: var(--fill-color);\n",
              "      border-top-color: var(--fill-color);\n",
              "    }\n",
              "    60% {\n",
              "      border-color: transparent;\n",
              "      border-right-color: var(--fill-color);\n",
              "    }\n",
              "    80% {\n",
              "      border-color: transparent;\n",
              "      border-right-color: var(--fill-color);\n",
              "      border-bottom-color: var(--fill-color);\n",
              "    }\n",
              "    90% {\n",
              "      border-color: transparent;\n",
              "      border-bottom-color: var(--fill-color);\n",
              "    }\n",
              "  }\n",
              "</style>\n",
              "\n",
              "      <script>\n",
              "        async function quickchart(key) {\n",
              "          const quickchartButtonEl =\n",
              "            document.querySelector('#' + key + ' button');\n",
              "          quickchartButtonEl.disabled = true;  // To prevent multiple clicks.\n",
              "          quickchartButtonEl.classList.add('colab-df-spinner');\n",
              "          try {\n",
              "            const charts = await google.colab.kernel.invokeFunction(\n",
              "                'suggestCharts', [key], {});\n",
              "          } catch (error) {\n",
              "            console.error('Error during call to suggestCharts:', error);\n",
              "          }\n",
              "          quickchartButtonEl.classList.remove('colab-df-spinner');\n",
              "          quickchartButtonEl.classList.add('colab-df-quickchart-complete');\n",
              "        }\n",
              "        (() => {\n",
              "          let quickchartButtonEl =\n",
              "            document.querySelector('#df-3a7dd456-13f3-4eee-9a57-5e5d8ac6f516 button');\n",
              "          quickchartButtonEl.style.display =\n",
              "            google.colab.kernel.accessAllowed ? 'block' : 'none';\n",
              "        })();\n",
              "      </script>\n",
              "    </div>\n",
              "\n",
              "    </div>\n",
              "  </div>\n"
            ],
            "application/vnd.google.colaboratory.intrinsic+json": {
              "type": "dataframe",
              "variable_name": "rev"
            }
          },
          "metadata": {},
          "execution_count": 57
        }
      ],
      "source": [
        "rev.head(11)"
      ]
    },
    {
      "cell_type": "code",
      "execution_count": 58,
      "metadata": {
        "colab": {
          "base_uri": "https://localhost:8080/"
        },
        "id": "-Z2vApnrHCSa",
        "outputId": "79077f02-4df6-4e78-a1a0-d9c0fc1b9488"
      },
      "outputs": [
        {
          "output_type": "execute_result",
          "data": {
            "text/plain": [
              "np.False_"
            ]
          },
          "metadata": {},
          "execution_count": 58
        }
      ],
      "source": [
        "rev.duplicated().any()\n"
      ]
    },
    {
      "cell_type": "code",
      "execution_count": 59,
      "metadata": {
        "id": "300GNV1NfOXb"
      },
      "outputs": [],
      "source": [
        "rev.to_csv('cleaned_data.csv', index=False)\n"
      ]
    },
    {
      "cell_type": "code",
      "execution_count": 60,
      "metadata": {
        "colab": {
          "base_uri": "https://localhost:8080/",
          "height": 17
        },
        "id": "razNQ7KQpbLh",
        "outputId": "3a3cdd6e-1acf-4816-a055-1a5bab449a14"
      },
      "outputs": [
        {
          "output_type": "display_data",
          "data": {
            "text/plain": [
              "<IPython.core.display.Javascript object>"
            ],
            "application/javascript": [
              "\n",
              "    async function download(id, filename, size) {\n",
              "      if (!google.colab.kernel.accessAllowed) {\n",
              "        return;\n",
              "      }\n",
              "      const div = document.createElement('div');\n",
              "      const label = document.createElement('label');\n",
              "      label.textContent = `Downloading \"${filename}\": `;\n",
              "      div.appendChild(label);\n",
              "      const progress = document.createElement('progress');\n",
              "      progress.max = size;\n",
              "      div.appendChild(progress);\n",
              "      document.body.appendChild(div);\n",
              "\n",
              "      const buffers = [];\n",
              "      let downloaded = 0;\n",
              "\n",
              "      const channel = await google.colab.kernel.comms.open(id);\n",
              "      // Send a message to notify the kernel that we're ready.\n",
              "      channel.send({})\n",
              "\n",
              "      for await (const message of channel.messages) {\n",
              "        // Send a message to notify the kernel that we're ready.\n",
              "        channel.send({})\n",
              "        if (message.buffers) {\n",
              "          for (const buffer of message.buffers) {\n",
              "            buffers.push(buffer);\n",
              "            downloaded += buffer.byteLength;\n",
              "            progress.value = downloaded;\n",
              "          }\n",
              "        }\n",
              "      }\n",
              "      const blob = new Blob(buffers, {type: 'application/binary'});\n",
              "      const a = document.createElement('a');\n",
              "      a.href = window.URL.createObjectURL(blob);\n",
              "      a.download = filename;\n",
              "      div.appendChild(a);\n",
              "      a.click();\n",
              "      div.remove();\n",
              "    }\n",
              "  "
            ]
          },
          "metadata": {}
        },
        {
          "output_type": "display_data",
          "data": {
            "text/plain": [
              "<IPython.core.display.Javascript object>"
            ],
            "application/javascript": [
              "download(\"download_578d03c1-d2aa-4d46-a5c7-2f8e29c98e92\", \"cleaned_data.csv\", 272048107)"
            ]
          },
          "metadata": {}
        }
      ],
      "source": [
        "# Example: saving as CSV\n",
        "rev.to_csv(\"cleaned_data.csv\", index=False)\n",
        "\n",
        "# Download the file in Colab\n",
        "from google.colab import files\n",
        "files.download(\"cleaned_data.csv\")\n"
      ]
    },
    {
      "cell_type": "code",
      "execution_count": 61,
      "metadata": {
        "colab": {
          "base_uri": "https://localhost:8080/"
        },
        "id": "W1U0IENq0mz0",
        "outputId": "15530214-a3f5-4348-dda0-c879d8300d38"
      },
      "outputs": [
        {
          "output_type": "stream",
          "name": "stdout",
          "text": [
            "Original rating counts:\n",
            "Rating\n",
            "5    363102\n",
            "4     80654\n",
            "1     52264\n",
            "3     42638\n",
            "2     29743\n",
            "Name: count, dtype: int64\n",
            "Balanced dataset shape: (25000, 5)\n",
            "Rating\n",
            "2    5000\n",
            "5    5000\n",
            "3    5000\n",
            "1    5000\n",
            "4    5000\n",
            "Name: count, dtype: int64\n"
          ]
        }
      ],
      "source": [
        "print(\"Original rating counts:\")\n",
        "print(rev['Rating'].value_counts())   # Use 'Score', not 'Rating'\n",
        "\n",
        "n_samples = 5000\n",
        "balanced_df = rev.groupby('Rating').sample(n=n_samples, random_state=42)\n",
        "\n",
        "# Shuffle the balanced dataset\n",
        "balanced_df = balanced_df.sample(frac=1, random_state=42).reset_index(drop=True)\n",
        "\n",
        "print(\"Balanced dataset shape:\", balanced_df.shape)\n",
        "print(balanced_df['Rating'].value_counts())\n"
      ]
    },
    {
      "cell_type": "code",
      "execution_count": 17,
      "metadata": {
        "id": "E8OjjQ8potzw"
      },
      "outputs": [],
      "source": [
        "rev = rev.rename(columns={'Score': 'Rating'})"
      ]
    },
    {
      "cell_type": "code",
      "execution_count": null,
      "metadata": {
        "id": "f4WbcWMeQo4E"
      },
      "outputs": [],
      "source": []
    },
    {
      "cell_type": "code",
      "execution_count": null,
      "metadata": {
        "id": "eQgz9d6uQo0k"
      },
      "outputs": [],
      "source": []
    },
    {
      "cell_type": "code",
      "execution_count": null,
      "metadata": {
        "id": "PsLFRJRRFFNa"
      },
      "outputs": [],
      "source": [
        "# balanced"
      ]
    },
    {
      "cell_type": "code",
      "execution_count": 63,
      "metadata": {
        "colab": {
          "base_uri": "https://localhost:8080/"
        },
        "id": "ZhvX-vviB_W0",
        "outputId": "fb7f3711-5831-4f89-9f46-3260d5e0c982"
      },
      "outputs": [
        {
          "output_type": "stream",
          "name": "stdout",
          "text": [
            "Loaded shape: (568454, 7)\n",
            "Columns: ['Id', 'ProductId', 'UserId', 'ProfileName', 'Rating', 'Summary', 'Text']\n",
            "After keeping valid ratings [1..5]: (568454, 7)\n"
          ]
        }
      ],
      "source": [
        "import pandas as pd\n",
        "import numpy as np\n",
        "import re\n",
        "import matplotlib.pyplot as plt\n",
        "\n",
        "# ====== CONFIG ======\n",
        "FILE_PATH = \"/content/drive/MyDrive/Reviews.csv.zip\"  # <- change if needed\n",
        "\n",
        "# ====== LOAD ======\n",
        "rev = pd.read_csv(FILE_PATH)\n",
        "\n",
        "# Step 1: Rename Score -> Rating (if exists)\n",
        "if 'Score' in rev.columns:\n",
        "    rev = rev.rename(columns={'Score': 'Rating'})\n",
        "\n",
        "# Step 2: Keep only core columns that actually exist\n",
        "keep_cols = [c for c in ['Id','ProductId','UserId','ProfileName','Rating','Summary','Text'] if c in rev.columns]\n",
        "rev = rev[keep_cols].copy()\n",
        "\n",
        "print(\"Loaded shape:\", rev.shape)\n",
        "print(\"Columns:\", rev.columns.tolist())\n",
        "\n",
        "# Step 3: Make sure Rating is numeric and valid\n",
        "if 'Rating' in rev.columns:\n",
        "    rev['Rating'] = pd.to_numeric(rev['Rating'], errors='coerce')\n",
        "    rev = rev[rev['Rating'].isin([1,2,3,4,5])].copy()\n",
        "    print(\"After keeping valid ratings [1..5]:\", rev.shape)\n"
      ]
    },
    {
      "cell_type": "code",
      "execution_count": 64,
      "metadata": {
        "colab": {
          "base_uri": "https://localhost:8080/"
        },
        "id": "5SRIpITXD_A1",
        "outputId": "a86ba375-6630-4160-804c-da3bede926f3"
      },
      "outputs": [
        {
          "output_type": "stream",
          "name": "stdout",
          "text": [
            "Dropped empty/null reviews: 0 rows removed; now 568454\n"
          ]
        }
      ],
      "source": [
        "before = rev.shape[0]\n",
        "rev = rev.dropna(subset=['Text']).copy()\n",
        "rev = rev[rev['Text'].str.strip().ne('')].copy()\n",
        "print(f\"Dropped empty/null reviews: {before - rev.shape[0]} rows removed; now {rev.shape[0]}\")"
      ]
    },
    {
      "cell_type": "code",
      "execution_count": 65,
      "metadata": {
        "colab": {
          "base_uri": "https://localhost:8080/"
        },
        "id": "OHwOXGcpCQPi",
        "outputId": "9da53a27-a426-4ea5-e5cd-86f9fca35963"
      },
      "outputs": [
        {
          "output_type": "stream",
          "name": "stdout",
          "text": [
            "Removed exact duplicates: 174779 rows; now 393675\n",
            "Removed conflicts (same text, different ratings): 191 rows; now 393484\n"
          ]
        }
      ],
      "source": [
        "# Exact dupes (same text + rating)\n",
        "before = rev.shape[0]\n",
        "rev = rev.drop_duplicates(subset=['Text','Rating'])\n",
        "print(f\"Removed exact duplicates: {before - rev.shape[0]} rows; now {rev.shape[0]}\")\n",
        "\n",
        "# Conflicts: Texts that appear with more than one rating\n",
        "rating_nunique = rev.groupby('Text')['Rating'].nunique()\n",
        "conflict_texts = set(rating_nunique[rating_nunique > 1].index)\n",
        "\n",
        "before = rev.shape[0]\n",
        "rev = rev[~rev['Text'].isin(conflict_texts)].copy()\n",
        "print(f\"Removed conflicts (same text, different ratings): {before - rev.shape[0]} rows; now {rev.shape[0]}\")"
      ]
    },
    {
      "cell_type": "code",
      "execution_count": 66,
      "metadata": {
        "id": "Xh_K2-ZtFg-w"
      },
      "outputs": [],
      "source": [
        "def clean_text(s: str) -> str:\n",
        "    s = s.lower()\n",
        "    s = re.sub(r'http\\S+|www\\.\\S+', ' ', s)          # URLs\n",
        "    s = re.sub(r'<.*?>', ' ', s)                     # HTML tags\n",
        "    s = re.sub(r'[^a-z\\s]', ' ', s)                  # keep letters + spaces\n",
        "    s = re.sub(r'\\s+', ' ', s).strip()               # extra spaces\n",
        "    return s\n",
        "\n",
        "rev['Text_clean'] = rev['Text'].astype(str).apply(clean_text)\n"
      ]
    },
    {
      "cell_type": "code",
      "execution_count": 67,
      "metadata": {
        "colab": {
          "base_uri": "https://localhost:8080/"
        },
        "id": "pXok2i3yGq69",
        "outputId": "52a7fe9b-904e-4c53-cc6d-6ab4ca1ba84e"
      },
      "outputs": [
        {
          "output_type": "stream",
          "name": "stdout",
          "text": [
            "                                                Text  \\\n",
            "0  I have bought several of the Vitality canned d...   \n",
            "1  Product arrived labeled as Jumbo Salted Peanut...   \n",
            "2  This is a confection that has been around a fe...   \n",
            "3  If you are looking for the secret ingredient i...   \n",
            "4  Great taffy at a great price.  There was a wid...   \n",
            "\n",
            "                                          Text_clean  \n",
            "0  i have bought several of the vitality canned d...  \n",
            "1  product arrived labeled as jumbo salted peanut...  \n",
            "2  this is a confection that has been around a fe...  \n",
            "3  if you are looking for the secret ingredient i...  \n",
            "4  great taffy at a great price there was a wide ...  \n"
          ]
        }
      ],
      "source": [
        "# Show original vs cleaned text for first 5 rows\n",
        "print(rev[['Text', 'Text_clean']].head())\n"
      ]
    },
    {
      "cell_type": "code",
      "execution_count": 68,
      "metadata": {
        "colab": {
          "base_uri": "https://localhost:8080/"
        },
        "id": "ig7pyUELGw5G",
        "outputId": "5d0e181c-c808-47ec-df97-9e5811473b35"
      },
      "outputs": [
        {
          "output_type": "stream",
          "name": "stdout",
          "text": [
            "Removed very short reviews (<3 words): 23 rows; now 393461\n"
          ]
        }
      ],
      "source": [
        "#remove very short review\n",
        "MIN_WORDS = 3\n",
        "rev['len_words'] = rev['Text_clean'].str.split().apply(len)\n",
        "before = rev.shape[0]\n",
        "rev = rev[rev['len_words'] >= MIN_WORDS].copy()\n",
        "print(f\"Removed very short reviews (<{MIN_WORDS} words): {before - rev.shape[0]} rows; now {rev.shape[0]}\")\n"
      ]
    },
    {
      "cell_type": "code",
      "execution_count": 69,
      "metadata": {
        "colab": {
          "base_uri": "https://localhost:8080/"
        },
        "id": "ew-ExExEHWbN",
        "outputId": "3f01086c-18c8-4205-f307-f439b698fb92"
      },
      "outputs": [
        {
          "output_type": "stream",
          "name": "stdout",
          "text": [
            "Final class distribution (after cleaning):\n",
            "Rating\n",
            "1     36265\n",
            "2     20783\n",
            "3     29742\n",
            "4     56007\n",
            "5    250664\n",
            "Name: count, dtype: int64\n"
          ]
        }
      ],
      "source": [
        "#inal class distribution (after cleaning)\n",
        "print(\"Final class distribution (after cleaning):\")\n",
        "print(rev['Rating'].value_counts().sort_index())\n"
      ]
    },
    {
      "cell_type": "code",
      "execution_count": 70,
      "metadata": {
        "colab": {
          "base_uri": "https://localhost:8080/",
          "height": 467
        },
        "id": "bM9ynx-FHuR5",
        "outputId": "a763af8d-f523-4e90-c992-5bb790f441fe"
      },
      "outputs": [
        {
          "output_type": "display_data",
          "data": {
            "text/plain": [
              "<Figure size 640x480 with 1 Axes>"
            ],
            "image/png": "[encoded data removed]"
          },
          "metadata": {}
        }
      ],
      "source": [
        "#Rating distribution – Bar chart\n",
        "counts = rev['Rating'].value_counts().sort_index()\n",
        "\n",
        "plt.figure()\n",
        "counts.plot(kind='bar')\n",
        "plt.title(\"Rating Distribution\")\n",
        "plt.xlabel(\"Rating\")\n",
        "plt.ylabel(\"Count\")\n",
        "plt.show()\n"
      ]
    },
    {
      "cell_type": "code",
      "execution_count": null,
      "metadata": {
        "colab": {
          "base_uri": "https://localhost:8080/",
          "height": 527
        },
        "id": "cbT7l2YzIBx0",
        "outputId": "089e1782-6ee5-4877-ae52-f18500806b25"
      },
      "outputs": [
        {
          "name": "stderr",
          "output_type": "stream",
          "text": [
            "/tmp/ipython-input-4002549319.py:5: MatplotlibDeprecationWarning: The 'labels' parameter of boxplot() has been renamed 'tick_labels' since Matplotlib 3.9; support for the old name will be dropped in 3.11.\n",
            "  plt.boxplot(data_by_rating, labels=[1,2,3,4,5], showfliers=False)\n"
          ]
        },
        {
          "data": {
            "image/png": "[encoded data removed]",
            "text/plain": [
              "<Figure size 640x480 with 1 Axes>"
            ]
          },
          "metadata": {},
          "output_type": "display_data"
        }
      ],
      "source": [
        "#Boxplot: review length per rating\n",
        "data_by_rating = [rev.loc[rev['Rating']==r, 'len_words'].values for r in [1,2,3,4,5]]\n",
        "\n",
        "plt.figure()\n",
        "plt.boxplot(data_by_rating, labels=[1,2,3,4,5], showfliers=False)\n",
        "plt.title(\"Review Length by Rating (Boxplot)\")\n",
        "plt.xlabel(\"Rating\")\n",
        "plt.ylabel(\"Words per review\")\n",
        "plt.show()\n"
      ]
    },
    {
      "cell_type": "code",
      "execution_count": null,
      "metadata": {
        "colab": {
          "base_uri": "https://localhost:8080/",
          "height": 472
        },
        "id": "qBAmIEJLIJ6b",
        "outputId": "a663741c-af27-4a50-abb7-5dc65f732461"
      },
      "outputs": [
        {
          "data": {
            "image/png": "[encoded data removed]",
            "text/plain": [
              "<Figure size 640x480 with 1 Axes>"
            ]
          },
          "metadata": {},
          "output_type": "display_data"
        }
      ],
      "source": [
        "#Violin plot: review length per rating\n",
        "plt.figure()\n",
        "plt.violinplot(data_by_rating, showmeans=True, showmedians=True)\n",
        "plt.title(\"Review Length by Rating (Violin)\")\n",
        "plt.xlabel(\"Rating (1..5)\")\n",
        "plt.ylabel(\"Words per review\")\n",
        "plt.xticks([1,2,3,4,5], [1,2,3,4,5])\n",
        "plt.show()\n"
      ]
    },
    {
      "cell_type": "code",
      "execution_count": null,
      "metadata": {
        "colab": {
          "base_uri": "https://localhost:8080/"
        },
        "id": "7T_ee53DIRBY",
        "outputId": "42bfca65-f50f-42bb-b69f-ec5f3a5b062a"
      },
      "outputs": [
        {
          "name": "stdout",
          "output_type": "stream",
          "text": [
            "\n",
            "Top words for Rating=1:\n",
            "like: 17387\n",
            "product: 15818\n",
            "taste: 12652\n",
            "just: 10988\n",
            "coffee: 8039\n",
            "good: 7953\n",
            "amazon: 7352\n",
            "food: 7211\n",
            "flavor: 6796\n",
            "don: 6770\n",
            "buy: 6739\n",
            "tea: 5828\n",
            "box: 5362\n",
            "tried: 5023\n",
            "really: 5015\n",
            "bought: 4934\n",
            "time: 4890\n",
            "bad: 4832\n",
            "did: 4766\n",
            "money: 4121\n",
            "\n",
            "Top words for Rating=2:\n",
            "like: 12900\n",
            "taste: 9915\n",
            "product: 7796\n",
            "just: 7789\n",
            "flavor: 7278\n",
            "good: 6792\n",
            "coffee: 5983\n",
            "tea: 4703\n",
            "don: 4459\n",
            "really: 4383\n",
            "food: 3538\n",
            "better: 3464\n",
            "buy: 3334\n",
            "tried: 3056\n",
            "chocolate: 2999\n",
            "time: 2987\n",
            "try: 2986\n",
            "did: 2975\n",
            "box: 2922\n",
            "little: 2774\n",
            "\n",
            "Top words for Rating=3:\n",
            "like: 18464\n",
            "taste: 14197\n",
            "good: 13206\n",
            "just: 12011\n",
            "flavor: 11430\n",
            "product: 10479\n",
            "coffee: 9668\n",
            "tea: 7360\n",
            "really: 7022\n",
            "don: 6729\n",
            "little: 5790\n",
            "better: 5747\n",
            "great: 5245\n",
            "food: 5183\n",
            "use: 4787\n",
            "buy: 4664\n",
            "time: 4623\n",
            "price: 4561\n",
            "water: 4507\n",
            "think: 4487\n",
            "\n",
            "Top words for Rating=4:\n",
            "like: 31861\n",
            "good: 29861\n",
            "taste: 20822\n",
            "flavor: 18664\n",
            "coffee: 18182\n",
            "just: 18013\n",
            "product: 16476\n",
            "great: 15671\n",
            "tea: 14239\n",
            "little: 12524\n",
            "really: 12517\n",
            "don: 10833\n",
            "use: 10099\n",
            "food: 9435\n",
            "price: 9206\n",
            "time: 8877\n",
            "love: 8803\n",
            "better: 8720\n",
            "make: 8646\n",
            "ve: 8582\n",
            "\n",
            "Top words for Rating=5:\n",
            "like: 92752\n",
            "great: 87977\n",
            "good: 80833\n",
            "just: 70488\n",
            "love: 65196\n",
            "taste: 62804\n",
            "tea: 60144\n",
            "product: 59017\n",
            "coffee: 56263\n",
            "flavor: 55866\n",
            "food: 42989\n",
            "amazon: 42871\n",
            "best: 42206\n",
            "use: 41093\n",
            "really: 40215\n",
            "ve: 39525\n",
            "time: 37548\n",
            "make: 33947\n",
            "price: 33909\n",
            "don: 33755\n"
          ]
        }
      ],
      "source": [
        "#Word frequency – Top words per class\n",
        "from sklearn.feature_extraction.text import CountVectorizer\n",
        "\n",
        "def top_words_for_class(frame, rating, top_n=20):\n",
        "    texts = frame.loc[frame['Rating']==rating, 'Text_clean'].tolist()\n",
        "    if not texts:\n",
        "        return []\n",
        "    vec = CountVectorizer(stop_words='english', min_df=2)  # ignore rare words; remove English stopwords\n",
        "    X = vec.fit_transform(texts)\n",
        "    counts = np.asarray(X.sum(axis=0)).ravel()\n",
        "    vocab = np.array(list(vec.get_feature_names_out()))\n",
        "    order = counts.argsort()[::-1][:top_n]\n",
        "    return list(zip(vocab[order], counts[order]))\n",
        "\n",
        "for r in [1,2,3,4,5]:\n",
        "    print(f\"\\nTop words for Rating={r}:\")\n",
        "    for w,c in top_words_for_class(rev, r, top_n=20):\n",
        "        print(f\"{w}: {int(c)}\")\n"
      ]
    },
    {
      "cell_type": "code",
      "source": [
        "# Imports\n",
        "import pandas as pd\n",
        "import numpy as np\n",
        "import re\n",
        "import joblib\n",
        "\n",
        "import spacy\n",
        "from sklearn.feature_extraction.text import TfidfVectorizer\n",
        "from sklearn.model_selection import GroupShuffleSplit, train_test_split\n",
        "from sklearn.linear_model import LogisticRegression\n",
        "from sklearn.metrics import accuracy_score, classification_report\n",
        "\n",
        "\n"
      ],
      "metadata": {
        "id": "O2RFNkqcHk5d"
      },
      "execution_count": 71,
      "outputs": []
    },
    {
      "cell_type": "code",
      "source": [],
      "metadata": {
        "id": "RfeUg2NoHyeQ"
      },
      "execution_count": null,
      "outputs": []
    },
    {
      "cell_type": "code",
      "source": [],
      "metadata": {
        "id": "0Bjo4nSdHkCt"
      },
      "execution_count": null,
      "outputs": []
    },
    {
      "cell_type": "code",
      "execution_count": 72,
      "metadata": {
        "colab": {
          "base_uri": "https://localhost:8080/"
        },
        "id": "Tj74-1nPIaMe",
        "outputId": "0f4aa3a9-c8e8-43b3-ceb8-40badbd36832"
      },
      "outputs": [
        {
          "output_type": "stream",
          "name": "stdout",
          "text": [
            "Available per class (after cleaning):\n",
            "Rating\n",
            "1     36265\n",
            "2     20783\n",
            "3     29742\n",
            "4     56007\n",
            "5    250664\n",
            "Name: count, dtype: int64\n",
            "Balanced shape: (10000, 9)\n",
            "Balanced counts:\n",
            "Rating\n",
            "1    2000\n",
            "2    2000\n",
            "3    2000\n",
            "4    2000\n",
            "5    2000\n",
            "Name: count, dtype: int64\n"
          ]
        }
      ],
      "source": [
        "#Create a balanced dataset (2,000 per rating) for prototyping\n",
        "N_PER_CLASS = 2000\n",
        "OVERSAMPLE = True  # True = oversample to reach N_PER_CLASS; False = undersample to min available\n",
        "\n",
        "class_counts = rev['Rating'].value_counts().sort_index()\n",
        "print(\"Available per class (after cleaning):\")\n",
        "print(class_counts)\n",
        "\n",
        "if OVERSAMPLE:\n",
        "    parts = []\n",
        "    for r in [1,2,3,4,5]:\n",
        "        subset = rev[rev['Rating']==r]\n",
        "        if subset.shape[0] == 0:\n",
        "            continue  # skip empty class (unlikely)\n",
        "        take = N_PER_CLASS\n",
        "        # sample with replacement if needed\n",
        "        sampled = subset.sample(n=take, replace=(subset.shape[0] < take), random_state=42)\n",
        "        parts.append(sampled)\n",
        "    balanced = pd.concat(parts, axis=0).sample(frac=1, random_state=42).reset_index(drop=True)\n",
        "else:\n",
        "    min_available = class_counts.min()\n",
        "    n_take = min(N_PER_CLASS, min_available)\n",
        "    balanced = (\n",
        "        rev.groupby('Rating', group_keys=False)\n",
        "          .apply(lambda x: x.sample(n=n_take, random_state=42))\n",
        "          .sample(frac=1, random_state=42)\n",
        "          .reset_index(drop=True)\n",
        "    )\n",
        "\n",
        "print(\"Balanced shape:\", balanced.shape)\n",
        "print(\"Balanced counts:\")\n",
        "print(balanced['Rating'].value_counts().sort_index())\n"
      ]
    },
    {
      "cell_type": "code",
      "source": [],
      "metadata": {
        "id": "KSdeUiXcNx_r"
      },
      "execution_count": null,
      "outputs": []
    },
    {
      "cell_type": "code",
      "source": [],
      "metadata": {
        "id": "5hEBRNPKzqp1"
      },
      "execution_count": null,
      "outputs": []
    },
    {
      "cell_type": "code",
      "source": [
        "import re\n",
        "\n",
        "# 1) Clean function\n",
        "def clean_text(s: str) -> str:\n",
        "    s = s.lower()\n",
        "    s = re.sub(r'http\\S+|www\\.\\S+', ' ', s)   # remove URLs\n",
        "    s = re.sub(r'<.*?>', ' ', s)              # remove HTML tags\n",
        "    s = re.sub(r'[^a-z\\s]', ' ', s)           # keep only letters + spaces\n",
        "    s = re.sub(r'\\s+', ' ', s).strip()        # remove extra spaces\n",
        "    return s\n",
        "\n",
        "# 2) Apply cleaning\n",
        "balanced['Text_clean'] = balanced['Text'].astype(str).apply(clean_text)\n",
        "\n",
        "# 3) Word counts (on cleaned text)\n",
        "balanced['len_words'] = balanced['Text_clean'].str.split().apply(len)\n",
        "\n",
        "# 4) Min/max per rating\n",
        "min_max_reviews = balanced.groupby(\"Rating\")['len_words'].agg(['min','max']).reset_index()\n"
      ],
      "metadata": {
        "id": "qzAmDiSKzqmI"
      },
      "execution_count": 116,
      "outputs": []
    },
    {
      "cell_type": "code",
      "source": [
        "# Add word count column\n",
        "balanced[\"word_count\"] = balanced[\"Text_clean\"].str.split().str.len()\n",
        "\n",
        "# Compute min and max per Rating\n",
        "min_max_reviews = balanced.groupby(\"Rating\")[\"word_count\"].agg([\"min\", \"max\"]).reset_index()\n",
        "\n",
        "print(min_max_reviews)\n"
      ],
      "metadata": {
        "colab": {
          "base_uri": "https://localhost:8080/"
        },
        "id": "IWHeezsVNx8G",
        "outputId": "ab164b26-1dd5-4be0-af12-e5672a2781fd"
      },
      "execution_count": 117,
      "outputs": [
        {
          "output_type": "stream",
          "name": "stdout",
          "text": [
            "   Rating  min   max\n",
            "0       1    9  1169\n",
            "1       2    6  1600\n",
            "2       3   15   887\n",
            "3       4    7  1089\n",
            "4       5   10   860\n"
          ]
        }
      ]
    },
    {
      "cell_type": "code",
      "source": [
        "# Show clean output\n",
        "for idx, row in min_max_reviews.iterrows():\n",
        "    rating = row[\"Rating\"]\n",
        "    min_len = row[\"min\"]\n",
        "    max_len = row[\"max\"]\n",
        "\n",
        "    print(f\"Rating {rating}: Min words {min_len}, Max words {max_len}\")\n"
      ],
      "metadata": {
        "colab": {
          "base_uri": "https://localhost:8080/"
        },
        "id": "L1a8V5ZJNwXn",
        "outputId": "6aa9002b-d4c9-4ee7-f750-384cd38d3f04"
      },
      "execution_count": 118,
      "outputs": [
        {
          "output_type": "stream",
          "name": "stdout",
          "text": [
            "Rating 1: Min words 9, Max words 1169\n",
            "Rating 2: Min words 6, Max words 1600\n",
            "Rating 3: Min words 15, Max words 887\n",
            "Rating 4: Min words 7, Max words 1089\n",
            "Rating 5: Min words 10, Max words 860\n"
          ]
        }
      ]
    },
    {
      "cell_type": "code",
      "source": [],
      "metadata": {
        "id": "eJUhPuVNOxHJ"
      },
      "execution_count": null,
      "outputs": []
    },
    {
      "cell_type": "code",
      "source": [
        "def show_sample_reviews(df, text_col=\"Text_clean\", target_col=\"Rating\", n=5):\n",
        "    print(\"Unique ratings in dataset:\", df[target_col].unique())  # debug\n",
        "\n",
        "    for star in sorted(df[target_col].unique()):\n",
        "        print(f\"\\n⭐ Rating: {star}\")\n",
        "        samples = df[df[target_col] == star][text_col].head(n)\n",
        "\n",
        "        if samples.empty:\n",
        "            print(\"⚠️ No samples found for this rating\")\n",
        "        else:\n",
        "            for i, review in enumerate(samples, 1):\n",
        "                print(f\"{i}. {review}\")\n",
        "\n"
      ],
      "metadata": {
        "id": "F2K-UivwJAps"
      },
      "execution_count": 119,
      "outputs": []
    },
    {
      "cell_type": "code",
      "source": [
        "show_sample_reviews(balanced, text_col=\"Text_clean\", target_col=\"Rating\", n=5)\n"
      ],
      "metadata": {
        "colab": {
          "base_uri": "https://localhost:8080/"
        },
        "id": "db_EcCKXNvX6",
        "outputId": "2c1383b0-35f3-45e5-99ee-929c5389ad0e"
      },
      "execution_count": 120,
      "outputs": [
        {
          "output_type": "stream",
          "name": "stdout",
          "text": [
            "Unique ratings in dataset: [4 3 1 2 5]\n",
            "\n",
            "⭐ Rating: 1\n",
            "1. i bought this to make coconut milk for my coffee but it doesn t turn into milk even in a blender the bits are too big made me choke on my coffee will never reorder\n",
            "2. the tea i received is not caffeine free the box is different from the pictured box as well it has ok flavor but could be stronger per bag\n",
            "3. used of the bottles over the past month and have zero effect on helping with sleep it was no different than taking nothing expensive and worthless\n",
            "4. arrived with one package that was loose the other one tight had tape on it so i assume it was like that when it left outside packaging was fine would not order it again\n",
            "5. got it for a friend so naturally i didn t open it to look everything was thin and cheap save yourself money get pancake mix and a real pitcher the cake ring can be found at a thrift store\n",
            "\n",
            "⭐ Rating: 2\n",
            "1. this is an attractive machine looks good in my kitchen my husband and i use different coffees and love the convenience of having whatever brew we need available cup by cup it s easy to operate the coffee smells good and tastes good having said that here s the downside it s not very well made it has been recalled for some electrical difficulty that could have been disastrous and the replacement broke down within months i am now on my fourth or fifth one and if this one goes bad in the next two years or so i am going shopping for another brand sometimes i think i keep buying them just because it s so fast efficient and pleasant to deal with amazon\n",
            "2. usually i buy freeze dried pears from whole foods but it costs an arm and a leg so i was super excited to see this available at a decent price disappointment doesn t even come close the pears weren t crunchy in the slightest bit more like stale and chewy in such a way that it brought about a slight ick factor i was expecting the same quality as whole foods my mistake but when i opened the bag it looked like someone had taken a pear slice and crumbled it like a paper ball and dried it we got this to have healthy snacks on hand but no one in my house can get over that slight ick taste and no one will eat it whatta waste\n",
            "3. this earl grey tea is just ok the bergamont flavor is muted and dull which caught me by surprise i was expecting better from this product as it is marketed and packaged as high end also the tea leaves are broken and not full leaves\n",
            "4. while these do have a great ingredient label the texture and flavor are imo off putting i bought the strawberry but it tastes like a cross between apple and pear and leaves a strange taste in my mouth but the texture is particularly odd for years i made my own fruit leather guess i ll have to back to it i really don t like writing negative reviews but if i had really paid attention to the poor reviews here i probably wouldn t have bought this i just hope i can save someone else from making the same mistake\n",
            "5. as a note to anyone buying this product i emailed watkins to ask about how the product is processed and received the following reply watkins original grapeseed oil fl oz is processed with hexane after researching hexane extraction there may still be slight traces of hexane in this product as in any hexane processed product hexane is banned or restricted in the european union for cosmetics and the deep skin cosmetics database states research shows there may be toxicity problems just a note to those looking to buy that this may not be all natural common problem for most grapeseed oils\n",
            "\n",
            "⭐ Rating: 3\n",
            "1. absolutely love the different flavors of coffee that were in this bundle very delicious and at a decent price i honestly was a little surprised that it came in such a big box only for the k cups to be in a brown bag and not in their own box like you buy at the store other than that small quirk i probably will buy my k cups from here again but not after looking at other sellers\n",
            "2. my family and i recently tasted this switch drink as well as the black cherry flavor i found the kiwi strawberry taste to not be very distinguishable ie without reading the can i would have jard a hard time guessing what the flavor was my husband thought this was better than the cherry flavor as did the kids ages we all found this drink to be very sweet even without the added sugars i was not impressed with this drink and would not buy it again\n",
            "3. not thrilled with these doubt i will buy them again lid doesn t fit very well messy and did not make a good cup of coffee cost including shipping to me was filter cup plus coffee don t think it is worth it as i can buy a green mountain k cup for around cup and they are perfect every time\n",
            "4. this tea has a gentle laxative effect when i take it in the evening i spend much of the next day making trips to the toilet but nothing too urgent that said everyone s system is different i never take laxatives so i can t compare them to the tea unfortunately this chocolate flavor is faint and rather chalky i like regular smooth move better\n",
            "5. this is the best hot cocoa i have found so far but i hope i can find better it s not real chocolately wish it were a bit sweeter but on the whole i would buy it again if i can t find better\n",
            "\n",
            "⭐ Rating: 4\n",
            "1. my dog loves these cookies i just wanted to let people know the box is oz and not oz as they are saying one ounce is no big deal so this is just an fyi no problem with amazon at all i use them frequently and this is the first time this has happened\n",
            "2. the curry arrived well packaged and timely and most importantly was delicious i highly recommend this company for future purchases\n",
            "3. the pieces of fruit were ripe flavorful firm not water logged and mushy like some canned fruit i ve tried the light syrup is only fruit juice not the typical light or heavy corn syrup which i was quite grateful to find the reason i did not give stars is there is an approximate to ratio of fruit to juice it is listed as servings but it was one cereal sized bowl for me including juice granted i should have made it servings considering the calories but to make servings you would need to use the small custard bowls which would not satiate me i wish they had an organic version yes i ve tried native forrest and i thought it was mushy i will reorder until i find another organic version i like i have bought other roland organic and non organic products that i have enjoyed so i consider this brand trustworthy\n",
            "4. why oh why do studios stamp deluxe edition on movies and then provide nothing to make it worthy of that title i absolutely love the movie beetlejuice and just about anything else tim burton has done the blu ray version of this movie looks and sounds better than any version i ve seen before the colors are sharp and the sound is greatly improved over other dvd iterations i have seen before the movie comes with a nice slipcover featuring the cover art in lenticular motion that s about the only really special feature you are going to get on this disc with it being the th anniv of this film i thought that surely something would have been included about the making of the film but there is nothing there is no commentary track no making of doc no interviews with the cast nothing oh you do get episodes of the beetlejuice cartoon yaawwwwnn and the original theatrical trailer i m not complaining too much because i do love this movie and it is worth the price just to see it in high definition it just ticks me off a little when studios stamp the deluxe edition on the cover when there is nothing deluxe about it\n",
            "5. one of the reasons i like this product is there are no added sweeteners just whole grains nuts and fruit i add additional sunflower seeds ground flax seed oat bran and milk to the muesli and heat it in the microwave for a minute or two i then add a spoonful of yogurt usually the fruit flavored type for a nice easy breakfast cereal\n",
            "\n",
            "⭐ Rating: 5\n",
            "1. i bought these at a meijer s in blacklick reynoldsburg oh while visiting my in laws then while at the whole foods on the other side of town bought some fresh ground honey peanut butter i had to hide these pretzels because everyone was eating them saying they were the best they had ever had they truly are wonderful\n",
            "2. crackers are great they come in a small enough package so they don t get stale either but i can t seem to put them down until they are almost gone try them\n",
            "3. i bought this because my boyfriend likes green mountain coffee but had not tried this blend before he loved it so much he requested i buy it every time we get new k cups it is perfect for breakfast wake up and even smells good to me a non drinker of coffee\n",
            "4. excellent coffee we blend regular and decaf of the sumatra to make a great cup of coffee the coffee has a very rich and bold flavor\n",
            "5. these candies are not your typical kids sour candies they have exotic flavors and not as tart as the others\n"
          ]
        }
      ]
    },
    {
      "cell_type": "code",
      "source": [
        "print(\"Original rating counts:\")\n",
        "print(rev['Rating'].value_counts())\n",
        "\n",
        "# Number of samples per class\n",
        "n_samples = 5000\n",
        "\n",
        "# Step 1: balance dataset by sampling\n",
        "balanced_df = rev.groupby('Rating').sample(n=n_samples, random_state=42)\n",
        "\n",
        "# Step 2: shuffle the balanced dataset\n",
        "balanced_df = balanced_df.sample(frac=1, random_state=42).reset_index(drop=True)\n",
        "\n",
        "print(\"Balanced dataset shape:\", balanced_df.shape)\n",
        "print(balanced_df['Rating'].value_counts())\n"
      ],
      "metadata": {
        "colab": {
          "base_uri": "https://localhost:8080/"
        },
        "id": "Jwk-I_hINvUq",
        "outputId": "7e339f2b-861e-42f5-ecfe-bb87205b7a05"
      },
      "execution_count": 79,
      "outputs": [
        {
          "output_type": "stream",
          "name": "stdout",
          "text": [
            "Original rating counts:\n",
            "Rating\n",
            "5    250664\n",
            "4     56007\n",
            "1     36265\n",
            "3     29742\n",
            "2     20783\n",
            "Name: count, dtype: int64\n",
            "Balanced dataset shape: (25000, 9)\n",
            "Rating\n",
            "2    5000\n",
            "5    5000\n",
            "3    5000\n",
            "1    5000\n",
            "4    5000\n",
            "Name: count, dtype: int64\n"
          ]
        }
      ]
    },
    {
      "cell_type": "code",
      "source": [
        "import re\n",
        "import nltk\n",
        "from nltk.corpus import stopwords\n",
        "from nltk.stem import WordNetLemmatizer\n",
        "\n",
        "# Ensure required NLTK resources are downloaded\n",
        "nltk.download('stopwords')\n",
        "nltk.download('punkt')\n",
        "nltk.download('wordnet')\n",
        "nltk.download('omw-1.4')\n",
        "\n",
        "# Initialize tools\n",
        "stop_words = set(stopwords.words(\"english\"))\n",
        "lemmatizer = WordNetLemmatizer()\n",
        "\n",
        "def clean_text(text):\n",
        "    \"\"\"\n",
        "    Clean raw review text:\n",
        "    - Lowercase\n",
        "    - Remove special chars/numbers\n",
        "    - Tokenize\n",
        "    - Remove stopwords\n",
        "    - Lemmatize words\n",
        "    \"\"\"\n",
        "    # Lowercase\n",
        "    text = text.lower()\n",
        "\n",
        "    # Remove special characters & numbers\n",
        "    text = re.sub(r\"[^a-z\\s]\", \"\", text)\n",
        "\n",
        "    # Tokenize\n",
        "    tokens = nltk.word_tokenize(text)\n",
        "\n",
        "    # Remove stopwords + Lemmatization\n",
        "    tokens = [lemmatizer.lemmatize(word) for word in tokens if word not in stop_words]\n",
        "\n",
        "    # Join back into one string\n",
        "    return \" \".join(tokens)\n",
        "\n",
        "\n",
        "def filter_reviews_by_length(df, text_col=\"Review\", min_words=3):\n",
        "    \"\"\"\n",
        "    Remove reviews shorter than min_words.\n",
        "    \"\"\"\n",
        "    return df[df[text_col].str.split().str.len() >= min_words]\n"
      ],
      "metadata": {
        "colab": {
          "base_uri": "https://localhost:8080/"
        },
        "id": "ruYpvwj7NvRm",
        "outputId": "5c5f6281-b3d0-463f-e141-340ff1d9c846"
      },
      "execution_count": 81,
      "outputs": [
        {
          "output_type": "stream",
          "name": "stderr",
          "text": [
            "[nltk_data] Downloading package stopwords to /root/nltk_data...\n",
            "[nltk_data]   Unzipping corpora/stopwords.zip.\n",
            "[nltk_data] Downloading package punkt to /root/nltk_data...\n",
            "[nltk_data]   Unzipping tokenizers/punkt.zip.\n",
            "[nltk_data] Downloading package wordnet to /root/nltk_data...\n",
            "[nltk_data] Downloading package omw-1.4 to /root/nltk_data...\n"
          ]
        }
      ]
    },
    {
      "cell_type": "code",
      "source": [
        "from sklearn.model_selection import train_test_split\n",
        "from sklearn.feature_extraction.text import TfidfVectorizer\n",
        "\n",
        "def prepare_train_test(df, text_col=\"Review\", target_col=\"Rating\", test_size=0.2, max_features=5000):\n",
        "    \"\"\"\n",
        "    Perform stratified train-test split and TF-IDF vectorization.\n",
        "\n",
        "    Args:\n",
        "        df (pd.DataFrame): Input dataframe (already balanced).\n",
        "        text_col (str): Column with text data.\n",
        "        target_col (str): Target label column.\n",
        "        test_size (float): Proportion of test split.\n",
        "        max_features (int): Number of TF-IDF features.\n",
        "\n",
        "    Returns:\n",
        "        X_train_vec, X_test_vec, y_train, y_test, vectorizer\n",
        "    \"\"\"\n",
        "\n",
        "    # Train-test split (stratified ensures equal class balance in both sets)\n",
        "    X = df[text_col]\n",
        "    y = df[target_col]\n",
        "\n",
        "    X_train, X_test, y_train, y_test = train_test_split(\n",
        "        X, y, test_size=test_size, stratify=y, random_state=42\n",
        "    )\n",
        "\n",
        "    # TF-IDF Vectorization\n",
        "    vectorizer = TfidfVectorizer(max_features=max_features)\n",
        "\n",
        "    X_train_vec = vectorizer.fit_transform(X_train)   # fit only on training data\n",
        "    X_test_vec = vectorizer.transform(X_test)         # transform test data\n",
        "\n",
        "    return X_train_vec, X_test_vec, y_train, y_test, vectorizer\n"
      ],
      "metadata": {
        "id": "RwvDxH2_Nu-F"
      },
      "execution_count": 83,
      "outputs": []
    },
    {
      "cell_type": "code",
      "source": [
        "def balance_dataset(df, target_col=\"Rating\", n_samples=5000):\n",
        "    \"\"\"\n",
        "    Balance dataset by sampling n_samples from each class in target_col.\n",
        "\n",
        "    Args:\n",
        "        df (pd.DataFrame): Input dataframe.\n",
        "        target_col (str): The target column to balance (e.g., 'Rating').\n",
        "        n_samples (int): Number of samples per class.\n",
        "\n",
        "    Returns:\n",
        "        pd.DataFrame: Balanced dataframe.\n",
        "    \"\"\"\n",
        "    balanced_df = df.groupby(target_col).sample(n=n_samples, random_state=42)\n",
        "    return balanced_df.sample(frac=1, random_state=42).reset_index(drop=True)\n"
      ],
      "metadata": {
        "id": "CzRTzwE7Xi1c"
      },
      "execution_count": 87,
      "outputs": []
    },
    {
      "cell_type": "code",
      "source": [
        "# Rename Text -> Review (once at the start)\n",
        "if \"Text\" in rev.columns:\n",
        "    rev = rev.rename(columns={\"Text\": \"Review\"})\n"
      ],
      "metadata": {
        "id": "TT8BmImkX9zc"
      },
      "execution_count": 94,
      "outputs": []
    },
    {
      "cell_type": "code",
      "source": [
        "# 1. Balance dataset\n",
        "balanced_df = balance_dataset(rev, target_col=\"Rating\", n_samples=5000)\n",
        "\n",
        "# 2. Split + Vectorize\n",
        "X_train, X_test, y_train, y_test, vectorizer = prepare_train_test(balanced_df)\n",
        "\n",
        "# 3. Check outputs\n",
        "print(\"Train shape:\", X_train.shape)\n",
        "print(\"Test shape:\", X_test.shape)\n",
        "print(\"Class balance in Train:\\n\", y_train.value_counts())\n",
        "print(\"Class balance in Test:\\n\", y_test.value_counts())\n"
      ],
      "metadata": {
        "colab": {
          "base_uri": "https://localhost:8080/"
        },
        "id": "xFiJwIYDNu6A",
        "outputId": "cff163d2-af02-4b7b-a530-4a92c01f6917"
      },
      "execution_count": 91,
      "outputs": [
        {
          "output_type": "stream",
          "name": "stdout",
          "text": [
            "Train shape: (20000, 5000)\n",
            "Test shape: (5000, 5000)\n",
            "Class balance in Train:\n",
            " Rating\n",
            "2    4000\n",
            "4    4000\n",
            "1    4000\n",
            "3    4000\n",
            "5    4000\n",
            "Name: count, dtype: int64\n",
            "Class balance in Test:\n",
            " Rating\n",
            "3    1000\n",
            "4    1000\n",
            "5    1000\n",
            "2    1000\n",
            "1    1000\n",
            "Name: count, dtype: int64\n"
          ]
        }
      ]
    },
    {
      "cell_type": "code",
      "source": [],
      "metadata": {
        "id": "dfk2mjumNu3Y"
      },
      "execution_count": null,
      "outputs": []
    },
    {
      "cell_type": "code",
      "execution_count": null,
      "metadata": {
        "id": "DPayfXIHIlWz"
      },
      "outputs": [],
      "source": [
        "#Save cleaned & balanced datasets\n",
        "CLEAN_PATH = \"/content/drive/MyDrive/cleaned_reviews.csv\"\n",
        "BALANCED_PATH = f\"/content/drive/MyDrive/balanced_reviews_{N_PER_CLASS}_per_class.csv\"\n",
        "\n",
        "rev.to_csv(CLEAN_PATH, index=False)\n",
        "balanced.to_csv(BALANCED_PATH, index=False)\n",
        "\n",
        "print(\"Saved:\")\n",
        "print(\" - Cleaned:\", CLEAN_PATH)\n",
        "print(\" - Balanced:\", BALANCED_PATH)\n"
      ]
    },
    {
      "cell_type": "code",
      "source": [],
      "metadata": {
        "id": "xadM-h2akqgt"
      },
      "execution_count": null,
      "outputs": []
    },
    {
      "cell_type": "code",
      "source": [],
      "metadata": {
        "id": "tWkqSWlblvIG"
      },
      "execution_count": null,
      "outputs": []
    },
    {
      "cell_type": "code",
      "source": [],
      "metadata": {
        "id": "ZCxQedHVkkS9"
      },
      "execution_count": null,
      "outputs": []
    },
    {
      "cell_type": "code",
      "source": [
        "# Step 1: Find reviews NOT used in balanced dataset (anti-join)\n",
        "remaining_reviews = (\n",
        "    rev.merge(balanced_df, how=\"outer\", indicator=True)\n",
        "       .query('_merge == \"left_only\"')\n",
        "       .drop(columns=['_merge'])\n",
        ")\n",
        "\n",
        "print(\"Remaining Unique Reviews:\", len(remaining_reviews))\n",
        "\n",
        "# Step 2: Desired percentage distribution for imbalance\n",
        "target_pct = {\n",
        "    1: 0.10,  # 10%\n",
        "    2: 0.15,  # 15%\n",
        "    3: 0.25,  # 25%\n",
        "    4: 0.30,  # 30%\n",
        "    5: 0.20   # 20%\n",
        "}\n",
        "\n",
        "# Step 3: Fix total dataset size (based on remaining reviews)\n",
        "n_total = len(remaining_reviews)\n",
        "target_counts = {c: int(round(n_total * p)) for c, p in target_pct.items()}\n",
        "\n",
        "# Step 4: Create imbalanced dataset from remaining reviews only\n",
        "parts = []\n",
        "for rating, n in target_counts.items():\n",
        "    class_df = remaining_reviews[remaining_reviews['Rating'] == rating]\n",
        "\n",
        "    if len(class_df) == 0:  # skip if no reviews for that rating\n",
        "        continue\n",
        "\n",
        "    # sample n rows (or all if smaller than n)\n",
        "    sampled = class_df.sample(n=min(len(class_df), n), random_state=42)\n",
        "    parts.append(sampled)\n",
        "\n",
        "imbalanced_df = pd.concat(parts).reset_index(drop=True)\n",
        "\n",
        "print(\"Final Imbalanced Dataset Shape:\", imbalanced_df.shape)\n",
        "print(\"Class Distribution:\")\n",
        "print(imbalanced_df['Rating'].value_counts(normalize=True).round(2))\n"
      ],
      "metadata": {
        "colab": {
          "base_uri": "https://localhost:8080/"
        },
        "id": "SBzJL68SZ_g2",
        "outputId": "a7e9c540-585c-486b-e08b-c15845bf781d"
      },
      "execution_count": 98,
      "outputs": [
        {
          "output_type": "stream",
          "name": "stdout",
          "text": [
            "Remaining Unique Reviews: 368461\n",
            "Final Imbalanced Dataset Shape: (196489, 9)\n",
            "Class Distribution:\n",
            "Rating\n",
            "5    0.38\n",
            "4    0.26\n",
            "1    0.16\n",
            "3    0.13\n",
            "2    0.08\n",
            "Name: proportion, dtype: float64\n"
          ]
        }
      ]
    },
    {
      "cell_type": "code",
      "source": [
        "import re\n",
        "import nltk\n",
        "from nltk.corpus import stopwords\n",
        "from nltk.stem import WordNetLemmatizer\n",
        "\n",
        "# ✅ Download required NLTK data (including punkt_tab for new NLTK versions)\n",
        "nltk.download(\"stopwords\", quiet=True)\n",
        "nltk.download(\"punkt\", quiet=True)\n",
        "nltk.download(\"punkt_tab\", quiet=True)\n",
        "nltk.download(\"wordnet\", quiet=True)\n",
        "\n",
        "stop_words = set(stopwords.words(\"english\"))\n",
        "lemmatizer = WordNetLemmatizer()\n",
        "\n",
        "def clean_text(text):\n",
        "    if not isinstance(text, str):  # Handle NaN or non-string\n",
        "        return \"\"\n",
        "\n",
        "    # Lowercase\n",
        "    text = text.lower()\n",
        "\n",
        "    # Remove special characters & numbers\n",
        "    text = re.sub(r\"[^a-z\\s]\", \" \", text)\n",
        "\n",
        "    # Tokenize\n",
        "    tokens = nltk.word_tokenize(text)\n",
        "\n",
        "    # Remove stopwords + Lemmatize\n",
        "    tokens = [lemmatizer.lemmatize(word) for word in tokens if word not in stop_words]\n",
        "\n",
        "    # Rejoin tokens\n",
        "    return \" \".join(tokens)\n",
        "\n",
        "# ✅ Ensure correct column name\n",
        "text_col = \"Review\"  # change if your dataset uses another name\n",
        "if text_col not in imbalanced_df.columns:\n",
        "    print(\"⚠️ Column 'Review' not found. Available columns:\", imbalanced_df.columns)\n",
        "else:\n",
        "    imbalanced_df[\"Cleaned_Review\"] = imbalanced_df[text_col].apply(clean_text)\n",
        "    print(imbalanced_df[[text_col, \"Cleaned_Review\"]].head())\n"
      ],
      "metadata": {
        "colab": {
          "base_uri": "https://localhost:8080/"
        },
        "id": "CmEBS44Xls0b",
        "outputId": "203afe85-a8bd-4fc4-ab3e-26c275e8a44b"
      },
      "execution_count": 114,
      "outputs": [
        {
          "output_type": "stream",
          "name": "stdout",
          "text": [
            "                                                                                                                                                                                                    Review  \\\n",
            "0  I was disappointed when I recieved this set, which was to be a gift for a friend. The packaging looked so much nicer online. In fact, the basket is cardboard and the products are very cheap. The s...   \n",
            "1  I started using Wilton's dyes when I was thirteen, and a set lasted me until I was twenty-nine because they were so powerful.  Then I had to buy these awful new gels to replace them.  I can't get ...   \n",
            "2  I don't know where these rave reviews are coming from. Zotz is disgusting. I tried one not knowing what it was and was disgusted when this thick, sour foam was coming out of the candy. Did not tas...   \n",
            "3  The only thing that impressed me was the speed to prepare---the so-called brownie was like a piece of kids chocolate cake with the choco syrup--you can do better at the Little Debbie shelf at the ...   \n",
            "4                              Very disappointed.  I have ordered Lavazza Pienaroma many times from Amazon.  This time the beans were not fresh and tasted awful.  I ended up with 4.4 lbs of stale beans.   \n",
            "\n",
            "                                                                                                                                                                                            Cleaned_Review  \n",
            "0  disappointed recieved set gift friend packaging looked much nicer online fact basket cardboard product cheap sisal body sponge torn frayed product description misleading would embarrassed give gif...  \n",
            "1  started using wilton dye thirteen set lasted twenty nine powerful buy awful new gel replace get brown darker skintone irish okay get sunburned indoors put three quarter teaspoon get purple water f...  \n",
            "2                                                                             know rave review coming zotz disgusting tried one knowing disgusted thick sour foam coming candy taste feel good mouth blech  \n",
            "3  thing impressed speed prepare called brownie like piece kid chocolate cake choco syrup better little debbie shelf local supermaket price absurd half price discount would looking ice cream coupon s...  \n",
            "4                                                                                                 disappointed ordered lavazza pienaroma many time amazon time bean fresh tasted awful ended lb stale bean  \n"
          ]
        }
      ]
    },
    {
      "cell_type": "code",
      "source": [
        "import re\n",
        "import nltk\n",
        "import string\n",
        "from nltk.corpus import stopwords\n",
        "from nltk.stem import WordNetLemmatizer\n",
        "\n",
        "# Download NLTK resources (run once)\n",
        "nltk.download(\"stopwords\")\n",
        "nltk.download(\"wordnet\")\n",
        "nltk.download(\"punkt\", quiet=True)\n",
        "nltk.download(\"punkt_tab\", quiet=True)\n",
        "\n",
        "# Initialize tools\n",
        "stop_words = set(stopwords.words(\"english\"))\n",
        "lemmatizer = WordNetLemmatizer()\n",
        "\n",
        "# Cleaning function\n",
        "def clean_text(text):\n",
        "    if not isinstance(text, str):\n",
        "        return \"\"\n",
        "\n",
        "    # 1. Lowercase\n",
        "    text = text.lower()\n",
        "    # 2. Remove HTML tags\n",
        "    text = re.sub(r\"<.*?>\", \" \", text)\n",
        "    # 3. Remove URLs\n",
        "    text = re.sub(r\"http\\S+|www\\S+\", \" \", text)\n",
        "    # 4. Remove numbers\n",
        "    text = re.sub(r\"\\d+\", \" \", text)\n",
        "    # 5. Remove punctuation\n",
        "    text = text.translate(str.maketrans(\"\", \"\", string.punctuation))\n",
        "    # 6. Remove extra whitespaces\n",
        "    text = re.sub(r\"\\s+\", \" \", text).strip()\n",
        "    # 7. Tokenize & remove stopwords + Lemmatization\n",
        "    words = [lemmatizer.lemmatize(w) for w in text.split() if w not in stop_words]\n",
        "\n",
        "    return \" \".join(words)\n",
        "\n",
        "# Apply cleaning on imbalanced dataset\n",
        "imbalanced_df[\"Cleaned_Review\"] = imbalanced_df[\"Review\"].astype(str).apply(clean_text)\n",
        "\n",
        "# Show before vs after (first 5 examples)\n",
        "for i in range(5):\n",
        "    print(\"Original:\", imbalanced_df[\"Review\"].iloc[i])\n",
        "    print(\"Cleaned :\", imbalanced_df[\"Cleaned_Review\"].iloc[i])\n",
        "    print(\"-\" * 80)\n"
      ],
      "metadata": {
        "colab": {
          "base_uri": "https://localhost:8080/"
        },
        "id": "L4Snxhl0lsyB",
        "outputId": "79ad729f-501c-4c81-ac1d-9cf29c47cc96"
      },
      "execution_count": 109,
      "outputs": [
        {
          "output_type": "stream",
          "name": "stderr",
          "text": [
            "[nltk_data] Downloading package stopwords to /root/nltk_data...\n",
            "[nltk_data]   Package stopwords is already up-to-date!\n",
            "[nltk_data] Downloading package wordnet to /root/nltk_data...\n",
            "[nltk_data]   Package wordnet is already up-to-date!\n"
          ]
        },
        {
          "output_type": "stream",
          "name": "stdout",
          "text": [
            "Original: I was disappointed when I recieved this set, which was to be a gift for a friend. The packaging looked so much nicer online. In fact, the basket is cardboard and the products are very cheap. The sisal body sponge was torn and frayed! The product description is very misleading and I would be embarrassed to give this as a gift! I tried to return it, but it was not returnable! The product is cheap, not worth the money, and the whole experience was very frustrating.\n",
            "Cleaned : disappointed recieved set gift friend packaging looked much nicer online fact basket cardboard product cheap sisal body sponge torn frayed product description misleading would embarrassed give gift tried return returnable product cheap worth money whole experience frustrating\n",
            "--------------------------------------------------------------------------------\n",
            "Original: I started using Wilton's dyes when I was thirteen, and a set lasted me until I was twenty-nine because they were so powerful.  Then I had to buy these awful new gels to replace them.  I can't get a brown darker than my skintone--and I'm Irish, okay?  I get sunburned indoors.  I had to put three quarters of a teaspoon in just to get a purple.  And it WILL water down your frosting.<br /><br />I'm utterly perplexed by all these positive reviews.  Did I get the dud package?  Does anybody know if I can get the old, thick paste dyes anywhere?\n",
            "Cleaned : started using wilton dye thirteen set lasted twentynine powerful buy awful new gel replace cant get brown darker skintoneand im irish okay get sunburned indoors put three quarter teaspoon get purple water frosting im utterly perplexed positive review get dud package anybody know get old thick paste dye anywhere\n",
            "--------------------------------------------------------------------------------\n",
            "Original: I don't know where these rave reviews are coming from. Zotz is disgusting. I tried one not knowing what it was and was disgusted when this thick, sour foam was coming out of the candy. Did not taste or feel good in my mouth. BLECH.\n",
            "Cleaned : dont know rave review coming zotz disgusting tried one knowing disgusted thick sour foam coming candy taste feel good mouth blech\n",
            "--------------------------------------------------------------------------------\n",
            "Original: The only thing that impressed me was the speed to prepare---the so-called brownie was like a piece of kids chocolate cake with the choco syrup--you can do better at the Little Debbie shelf at the local supermaket.  The price was absurd if it was on a half price discount and then I would be looking for an ice cream coupon.  Sorry folks, not worth the money .\n",
            "Cleaned : thing impressed speed preparethe socalled brownie like piece kid chocolate cake choco syrupyou better little debbie shelf local supermaket price absurd half price discount would looking ice cream coupon sorry folk worth money\n",
            "--------------------------------------------------------------------------------\n",
            "Original: Very disappointed.  I have ordered Lavazza Pienaroma many times from Amazon.  This time the beans were not fresh and tasted awful.  I ended up with 4.4 lbs of stale beans.\n",
            "Cleaned : disappointed ordered lavazza pienaroma many time amazon time bean fresh tasted awful ended lb stale bean\n",
            "--------------------------------------------------------------------------------\n"
          ]
        }
      ]
    },
    {
      "cell_type": "code",
      "source": [
        "from sklearn.model_selection import train_test_split\n",
        "from sklearn.feature_extraction.text import TfidfVectorizer\n",
        "\n",
        "# ===== Train-Test Split =====\n",
        "X = imbalanced_df[\"Cleaned_Review\"]   # features = cleaned review text\n",
        "y = imbalanced_df[\"Rating\"]           # target = rating (make sure \"Rating\" column exists)\n",
        "\n",
        "# 80% training, 20% testing\n",
        "X_train, X_test, y_train, y_test = train_test_split(\n",
        "    X, y, test_size=0.2, random_state=42, stratify=y\n",
        ")\n",
        "\n",
        "print(\"Train size:\", X_train.shape[0])\n",
        "print(\"Test size :\", X_test.shape[0])\n",
        "\n",
        "# ===== TF-IDF Vectorization =====\n",
        "tfidf = TfidfVectorizer(max_features=5000, ngram_range=(1,2))  # unigrams + bigrams\n",
        "X_train_tfidf = tfidf.fit_transform(X_train)\n",
        "X_test_tfidf = tfidf.transform(X_test)\n",
        "\n",
        "print(\"TF-IDF Shape (Train):\", X_train_tfidf.shape)\n",
        "print(\"TF-IDF Shape (Test) :\", X_test_tfidf.shape)\n"
      ],
      "metadata": {
        "colab": {
          "base_uri": "https://localhost:8080/"
        },
        "id": "JwHz6k8SlsvP",
        "outputId": "ba68ecf4-c063-453c-95f4-5495f3d95a97"
      },
      "execution_count": 115,
      "outputs": [
        {
          "output_type": "stream",
          "name": "stdout",
          "text": [
            "Train size: 157191\n",
            "Test size : 39298\n",
            "TF-IDF Shape (Train): (157191, 5000)\n",
            "TF-IDF Shape (Test) : (39298, 5000)\n"
          ]
        }
      ]
    },
    {
      "cell_type": "code",
      "source": [],
      "metadata": {
        "id": "jE7lRlsWlssT"
      },
      "execution_count": null,
      "outputs": []
    },
    {
      "cell_type": "code",
      "source": [],
      "metadata": {
        "id": "fY_1btV6w5ze"
      },
      "execution_count": null,
      "outputs": []
    },
    {
      "cell_type": "code",
      "source": [],
      "metadata": {
        "id": "O2KHUHFkw5wF"
      },
      "execution_count": null,
      "outputs": []
    },
    {
      "cell_type": "code",
      "source": [],
      "metadata": {
        "id": "NjKrRRIiw5uO"
      },
      "execution_count": null,
      "outputs": []
    },
    {
      "cell_type": "code",
      "execution_count": null,
      "metadata": {
        "id": "gMGJjFq5OUh8"
      },
      "outputs": [],
      "source": []
    },
    {
      "cell_type": "code",
      "source": [],
      "metadata": {
        "id": "zTsXn99IiUEh"
      },
      "execution_count": null,
      "outputs": []
    },
    {
      "cell_type": "code",
      "source": [],
      "metadata": {
        "id": "H6B15Aad12ip"
      },
      "execution_count": null,
      "outputs": []
    },
    {
      "cell_type": "code",
      "execution_count": null,
      "metadata": {
        "id": "cdH1dM_gOUS3"
      },
      "outputs": [],
      "source": []
    },
    {
      "cell_type": "code",
      "execution_count": null,
      "metadata": {
        "id": "PGkmNGdjAPOc"
      },
      "outputs": [],
      "source": [
        ""
      ]
    },
    {
      "cell_type": "code",
      "execution_count": null,
      "metadata": {
        "id": "BAcOlyfO-Cry"
      },
      "outputs": [],
      "source": [
        "# imbalanced"
      ]
    },
    {
      "cell_type": "code",
      "execution_count": 104,
      "metadata": {
        "colab": {
          "base_uri": "https://localhost:8080/"
        },
        "id": "zGlIKOZ7-CpG",
        "outputId": "ff836a92-f9ac-4e78-b87a-8aca5178568a"
      },
      "outputs": [
        {
          "output_type": "stream",
          "name": "stdout",
          "text": [
            "Setup complete.\n"
          ]
        }
      ],
      "source": [
        "import os, re, html, string, math, random\n",
        "from collections import Counter\n",
        "import numpy as np\n",
        "import pandas as pd\n",
        "import matplotlib.pyplot as plt\n",
        "\n",
        "# ---- Adjust these for your project ----\n",
        "DATA_IN  = \"data/raw/reviews.csv\"                # your input CSV path\n",
        "DATA_OUT = \"data/processed/reviews_clean.csv\"    # cleaned full dataset\n",
        "IMB_OUT  = \"data/processed/reviews_imbalanced.csv\"  # imbalanced prototype\n",
        "FIG_DIR  = \"reports/figures\"\n",
        "\n",
        "TEXT_COL   = \"review_text\"   # change if your column name differs\n",
        "RATING_COL = \"rating\"        # change if your column name differs\n",
        "\n",
        "# Make folders if they don't exist\n",
        "os.makedirs(os.path.dirname(DATA_OUT), exist_ok=True)\n",
        "os.makedirs(FIG_DIR, exist_ok=True)\n",
        "\n",
        "pd.set_option(\"display.max_colwidth\", 200)\n",
        "print(\"Setup complete.\")"
      ]
    },
    {
      "cell_type": "code",
      "execution_count": null,
      "metadata": {
        "colab": {
          "base_uri": "https://localhost:8080/"
        },
        "id": "YpCidUsy_AVz",
        "outputId": "218cac2c-0292-4c4e-b35f-7e1f11df9551"
      },
      "outputs": [
        {
          "name": "stdout",
          "output_type": "stream",
          "text": [
            "Columns: ['Id', 'ProductId', 'UserId', 'ProfileName', 'HelpfulnessNumerator', 'HelpfulnessDenominator', 'Score', 'Time', 'Summary', 'Text']\n",
            "   Id   ProductId          UserId                      ProfileName  \\\n",
            "0   1  B001E4KFG0  A3SGXH7AUHU8GW                       delmartian   \n",
            "1   2  B00813GRG4  A1D87F6ZCVE5NK                           dll pa   \n",
            "2   3  B000LQOCH0   ABXLMWJIXXAIN  Natalia Corres \"Natalia Corres\"   \n",
            "\n",
            "   HelpfulnessNumerator  HelpfulnessDenominator  Score        Time  \\\n",
            "0                     1                       1      5  1303862400   \n",
            "1                     0                       0      1  1346976000   \n",
            "2                     1                       1      4  1219017600   \n",
            "\n",
            "                 Summary  \\\n",
            "0  Good Quality Dog Food   \n",
            "1      Not as Advertised   \n",
            "2  \"Delight\" says it all   \n",
            "\n",
            "                                                                                                                                                                                                      Text  \n",
            "0  I have bought several of the Vitality canned dog food products and have found them all to be of good quality. The product looks more like a stew than a processed meat and it smells better. My Labr...  \n",
            "1           Product arrived labeled as Jumbo Salted Peanuts...the peanuts were actually small sized unsalted. Not sure if this was an error or if the vendor intended to represent the product as \"Jumbo\".  \n",
            "2  This is a confection that has been around a few centuries.  It is a light, pillowy citrus gelatin with nuts - in this case Filberts. And it is cut into tiny squares and then liberally coated with ...  \n",
            "Loaded: 568454\n",
            "                                                                                                                                                                                                      Text  \\\n",
            "0  I have bought several of the Vitality canned dog food products and have found them all to be of good quality. The product looks more like a stew than a processed meat and it smells better. My Labr...   \n",
            "1           Product arrived labeled as Jumbo Salted Peanuts...the peanuts were actually small sized unsalted. Not sure if this was an error or if the vendor intended to represent the product as \"Jumbo\".   \n",
            "2  This is a confection that has been around a few centuries.  It is a light, pillowy citrus gelatin with nuts - in this case Filberts. And it is cut into tiny squares and then liberally coated with ...   \n",
            "3  If you are looking for the secret ingredient in Robitussin I believe I have found it.  I got this in addition to the Root Beer Extract I ordered (which was good) and made some cherry soda.  The fl...   \n",
            "4                                                             Great taffy at a great price.  There was a wide assortment of yummy taffy.  Delivery was very quick.  If your a taffy lover, this is a deal.   \n",
            "\n",
            "   Score  \n",
            "0      5  \n",
            "1      1  \n",
            "2      4  \n",
            "3      2  \n",
            "4      5  \n"
          ]
        }
      ],
      "source": [
        "import pandas as pd\n",
        "\n",
        "#1: Load\n",
        "DATA_IN = \"/content/drive/MyDrive/Reviews.csv.zip\"\n",
        "rev = pd.read_csv(\"/content/drive/MyDrive/Reviews.csv.zip\")\n",
        "\n",
        "print(\"Columns:\", rev.columns.tolist())\n",
        "print(rev.head(3))\n",
        "\n",
        "#2: Select Review + Rating Columns\n",
        "TEXT_COL = \"Text\"     # review text column\n",
        "RATING_COL = \"Score\"  # rating column (1–5)\n",
        "\n",
        "rev = rev[[TEXT_COL, RATING_COL]].copy()\n",
        "\n",
        "#3: Coerce rating to numeric\n",
        "rev[RATING_COL] = pd.to_numeric(rev[RATING_COL], errors=\"coerce\").astype(\"Int64\")\n",
        "\n",
        "#Step 4: Keep only valid ratings 1..5\n",
        "rev = rev[rev[RATING_COL].between(1, 5, inclusive=\"both\")].copy()\n",
        "\n",
        "print(\"Loaded:\", len(rev))\n",
        "print(rev.head())"
      ]
    },
    {
      "cell_type": "code",
      "execution_count": 103,
      "metadata": {
        "colab": {
          "base_uri": "https://localhost:8080/",
          "height": 211
        },
        "id": "gOjjtoDFBRSu",
        "outputId": "c01cadf1-e29d-432c-bc51-ec57c6f6e7ae"
      },
      "outputs": [
        {
          "output_type": "error",
          "ename": "NameError",
          "evalue": "name 'TEXT_COL' is not defined",
          "traceback": [
            "\u001b[0;31m---------------------------------------------------------------------------\u001b[0m",
            "\u001b[0;31mNameError\u001b[0m                                 Traceback (most recent call last)",
            "\u001b[0;32m/tmp/ipython-input-1456407691.py\u001b[0m in \u001b[0;36m<cell line: 0>\u001b[0;34m()\u001b[0m\n\u001b[1;32m      1\u001b[0m \u001b[0;31m#2: Drop Null/Empty\u001b[0m\u001b[0;34m\u001b[0m\u001b[0;34m\u001b[0m\u001b[0m\n\u001b[1;32m      2\u001b[0m \u001b[0mbefore\u001b[0m \u001b[0;34m=\u001b[0m \u001b[0mlen\u001b[0m\u001b[0;34m(\u001b[0m\u001b[0mrev\u001b[0m\u001b[0;34m)\u001b[0m\u001b[0;34m\u001b[0m\u001b[0;34m\u001b[0m\u001b[0m\n\u001b[0;32m----> 3\u001b[0;31m \u001b[0mrev\u001b[0m\u001b[0;34m[\u001b[0m\u001b[0mTEXT_COL\u001b[0m\u001b[0;34m]\u001b[0m \u001b[0;34m=\u001b[0m \u001b[0mrev\u001b[0m\u001b[0;34m[\u001b[0m\u001b[0mTEXT_COL\u001b[0m\u001b[0;34m]\u001b[0m\u001b[0;34m.\u001b[0m\u001b[0mastype\u001b[0m\u001b[0;34m(\u001b[0m\u001b[0mstr\u001b[0m\u001b[0;34m)\u001b[0m\u001b[0;34m.\u001b[0m\u001b[0mstr\u001b[0m\u001b[0;34m.\u001b[0m\u001b[0mstrip\u001b[0m\u001b[0;34m(\u001b[0m\u001b[0;34m)\u001b[0m\u001b[0;34m\u001b[0m\u001b[0;34m\u001b[0m\u001b[0m\n\u001b[0m\u001b[1;32m      4\u001b[0m \u001b[0mrev\u001b[0m \u001b[0;34m=\u001b[0m \u001b[0mrev\u001b[0m\u001b[0;34m[\u001b[0m\u001b[0mrev\u001b[0m\u001b[0;34m[\u001b[0m\u001b[0mTEXT_COL\u001b[0m\u001b[0;34m]\u001b[0m\u001b[0;34m.\u001b[0m\u001b[0mnotna\u001b[0m\u001b[0;34m(\u001b[0m\u001b[0;34m)\u001b[0m \u001b[0;34m&\u001b[0m \u001b[0;34m(\u001b[0m\u001b[0mrev\u001b[0m\u001b[0;34m[\u001b[0m\u001b[0mTEXT_COL\u001b[0m\u001b[0;34m]\u001b[0m\u001b[0;34m.\u001b[0m\u001b[0mstr\u001b[0m\u001b[0;34m.\u001b[0m\u001b[0mlen\u001b[0m\u001b[0;34m(\u001b[0m\u001b[0;34m)\u001b[0m \u001b[0;34m>\u001b[0m \u001b[0;36m0\u001b[0m\u001b[0;34m)\u001b[0m\u001b[0;34m]\u001b[0m\u001b[0;34m.\u001b[0m\u001b[0mcopy\u001b[0m\u001b[0;34m(\u001b[0m\u001b[0;34m)\u001b[0m\u001b[0;34m\u001b[0m\u001b[0;34m\u001b[0m\u001b[0m\n\u001b[1;32m      5\u001b[0m \u001b[0mprint\u001b[0m\u001b[0;34m(\u001b[0m\u001b[0;34mf\"Dropped empty/null: {before - len(rev)} | Remaining: {len(rev)}\"\u001b[0m\u001b[0;34m)\u001b[0m\u001b[0;34m\u001b[0m\u001b[0;34m\u001b[0m\u001b[0m\n",
            "\u001b[0;31mNameError\u001b[0m: name 'TEXT_COL' is not defined"
          ]
        }
      ],
      "source": [
        "#2: Drop Null/Empty\n",
        "before = len(rev)\n",
        "rev[TEXT_COL] = rev[TEXT_COL].astype(str).str.strip()\n",
        "rev = rev[rev[TEXT_COL].notna() & (rev[TEXT_COL].str.len() > 0)].copy()\n",
        "print(f\"Dropped empty/null: {before - len(rev)} | Remaining: {len(rev)}\")"
      ]
    },
    {
      "cell_type": "code",
      "execution_count": null,
      "metadata": {
        "colab": {
          "base_uri": "https://localhost:8080/"
        },
        "id": "DaNTXInLBkjc",
        "outputId": "df22839d-10fc-4fee-88a7-f31ca30c24aa"
      },
      "outputs": [
        {
          "name": "stdout",
          "output_type": "stream",
          "text": [
            "Removed exact dups/conflicts: 174970 total (conflicts: 191) | Remaining: 393484\n"
          ]
        }
      ],
      "source": [
        "#3: duplicates & Remove Conflicts\n",
        "before = len(rev)\n",
        "\n",
        "# Exact duplicates by (text, rating)\n",
        "rev = rev.drop_duplicates(subset=[TEXT_COL, RATING_COL])\n",
        "\n",
        "# Conflicts: same text with >1 unique rating\n",
        "rating_counts = rev.groupby(TEXT_COL)[RATING_COL].nunique()\n",
        "conflict_texts = set(rating_counts[rating_counts > 1].index)\n",
        "\n",
        "conflict_removed = rev[TEXT_COL].isin(conflict_texts).sum()\n",
        "rev = rev[~rev[TEXT_COL].isin(conflict_texts)].copy()\n",
        "\n",
        "print(f\"Removed exact dups/conflicts: {(before - len(rev))} total \"\n",
        "      f\"(conflicts: {conflict_removed}) | Remaining: {len(rev)}\")"
      ]
    },
    {
      "cell_type": "code",
      "execution_count": null,
      "metadata": {
        "colab": {
          "base_uri": "https://localhost:8080/"
        },
        "id": "4kONsMw6B6Ce",
        "outputId": "62f8e7ee-f137-445c-f64c-bcd327bb25d8"
      },
      "outputs": [
        {
          "name": "stdout",
          "output_type": "stream",
          "text": [
            "                                                                                                                                                                                                clean_text  \\\n",
            "0  i have bought several of the vitality canned dog food products and have found them all to be of good quality the product looks more like a stew than a processed meat and it smells better my labrad...   \n",
            "1                 product arrived labeled as jumbo salted peanuts the peanuts were actually small sized unsalted not sure if this was an error or if the vendor intended to represent the product as jumbo   \n",
            "2  this is a confection that has been around a few centuries it is a light pillowy citrus gelatin with nuts in this case filberts and it is cut into tiny squares and then liberally coated with powder...   \n",
            "\n",
            "   Score  \n",
            "0      5  \n",
            "1      1  \n",
            "2      4  \n"
          ]
        }
      ],
      "source": [
        "#4: Clean Text\n",
        "URL_RE    = re.compile(r\"(https?://\\S+|www\\.\\S+)\")\n",
        "EMAIL_RE  = re.compile(r\"\\b[\\w\\.-]+@[\\w\\.-]+\\.\\w+\\b\")\n",
        "HTML_RE   = re.compile(r\"<.*?>\")\n",
        "HANDLE_RE = re.compile(r\"[@#]\\w+\")\n",
        "WS_RE     = re.compile(r\"\\s+\")\n",
        "PUNCT_TRANSLATE = str.maketrans({p: \" \" for p in string.punctuation})\n",
        "\n",
        "def clean_text(s: str) -> str:\n",
        "    s = html.unescape(str(s))\n",
        "    s = s.lower()\n",
        "    s = re.sub(HTML_RE, \" \", s)\n",
        "    s = re.sub(URL_RE, \" \", s)\n",
        "    s = re.sub(EMAIL_RE, \" \", s)\n",
        "    s = re.sub(HANDLE_RE, \" \", s)\n",
        "    # keep digits (quantities can be informative), but normalize punctuation\n",
        "    s = s.translate(PUNCT_TRANSLATE)\n",
        "    s = re.sub(r\"\\d+\\s*/\\s*\\d+\", \" fraction \", s)  # normalize 5/5 etc.\n",
        "    s = re.sub(r\"\\b\\d+\\b\", \" num \", s)             # normalize standalone numbers\n",
        "    s = re.sub(WS_RE, \" \", s).strip()\n",
        "    return s\n",
        "\n",
        "rev[\"clean_text\"] = rev[TEXT_COL].apply(clean_text)\n",
        "print(rev[[\"clean_text\", RATING_COL]].head(3))"
      ]
    },
    {
      "cell_type": "code",
      "execution_count": null,
      "metadata": {
        "colab": {
          "base_uri": "https://localhost:8080/"
        },
        "id": "2awXAM56CbHT",
        "outputId": "8aad1072-b850-4bbe-a2ff-01c22a26972b"
      },
      "outputs": [
        {
          "name": "stdout",
          "output_type": "stream",
          "text": [
            "Removed very short (<3 words): 0 | Remaining: 393484\n"
          ]
        }
      ],
      "source": [
        "#Step 5: Short Reviews & Length Features\n",
        "def word_count(s: str) -> int:\n",
        "    return len(s.split())\n",
        "\n",
        "MIN_WORDS = 3  # adjust if you want stricter filtering\n",
        "rev[\"len_words\"] = rev[\"clean_text\"].apply(word_count)\n",
        "before = len(rev)\n",
        "rev = rev[rev[\"len_words\"] >= MIN_WORDS].copy()\n",
        "print(f\"Removed very short (<{MIN_WORDS} words): {before - len(rev)} | Remaining: {len(rev)}\")\n"
      ]
    },
    {
      "cell_type": "code",
      "execution_count": null,
      "metadata": {
        "colab": {
          "base_uri": "https://localhost:8080/"
        },
        "id": "Gl_xhaDNCtLL",
        "outputId": "b9b8a0f0-353c-47fe-a08b-3427b88d75a6"
      },
      "outputs": [
        {
          "name": "stdout",
          "output_type": "stream",
          "text": [
            "Final class distribution:\n",
            " Score\n",
            "1     36266\n",
            "2     20784\n",
            "3     29743\n",
            "4     56009\n",
            "5    250682\n",
            "Name: count, dtype: Int64\n",
            "Percentages (%):\n",
            " Score\n",
            "1     9.22\n",
            "2     5.28\n",
            "3     7.56\n",
            "4    14.23\n",
            "5    63.71\n",
            "Name: count, dtype: Float64\n"
          ]
        }
      ],
      "source": [
        "#6: Final Class Distribution\n",
        "class_counts = rev[RATING_COL].value_counts().sort_index()\n",
        "class_pct = (class_counts / class_counts.sum() * 100).round(2)\n",
        "print(\"Final class distribution:\\n\", class_counts)\n",
        "print(\"Percentages (%):\\n\", class_pct)"
      ]
    },
    {
      "cell_type": "code",
      "execution_count": null,
      "metadata": {
        "colab": {
          "base_uri": "https://localhost:8080/"
        },
        "id": "bCIXRnltC6og",
        "outputId": "757c52cd-5f8c-493d-9993-316da73549a1"
      },
      "outputs": [
        {
          "name": "stdout",
          "output_type": "stream",
          "text": [
            "Saved cleaned dataset -> data/processed/reviews_clean.csv\n"
          ]
        }
      ],
      "source": [
        "# Save Cleaned\n",
        "rev[[TEXT_COL, \"clean_text\", RATING_COL, \"len_words\"]].to_csv(DATA_OUT, index=False)\n",
        "print(\"Saved cleaned dataset ->\", DATA_OUT)\n"
      ]
    },
    {
      "cell_type": "code",
      "execution_count": null,
      "metadata": {
        "colab": {
          "base_uri": "https://localhost:8080/",
          "height": 487
        },
        "id": "CRSfIR8qDB0D",
        "outputId": "9d147180-23ae-4dcf-8c77-65cc729e1779"
      },
      "outputs": [
        {
          "data": {
            "image/png": "[encoded data removed]",
            "text/plain": [
              "<Figure size 640x480 with 1 Axes>"
            ]
          },
          "metadata": {},
          "output_type": "display_data"
        }
      ],
      "source": [
        "#1: Rating Distribution\n",
        "plt.figure()\n",
        "class_counts.plot(kind=\"bar\")\n",
        "plt.title(\"Rating Distribution\")\n",
        "plt.xlabel(\"Rating\")\n",
        "plt.ylabel(\"Count\")\n",
        "plt.tight_layout()\n",
        "plt.savefig(f\"{FIG_DIR}/rating_distribution.png\", dpi=150)\n",
        "plt.show()"
      ]
    },
    {
      "cell_type": "code",
      "execution_count": null,
      "metadata": {
        "colab": {
          "base_uri": "https://localhost:8080/",
          "height": 487
        },
        "id": "4R72cHcsDGRB",
        "outputId": "fff5decb-ab29-43e4-897f-2331bac79ba0"
      },
      "outputs": [
        {
          "data": {
            "image/png": "[encoded data removed]",
            "text/plain": [
              "<Figure size 640x480 with 1 Axes>"
            ]
          },
          "metadata": {},
          "output_type": "display_data"
        }
      ],
      "source": [
        "#2: Review Length Histogram\n",
        "plt.figure()\n",
        "plt.hist(rev[\"len_words\"], bins=50)\n",
        "plt.title(\"Review Length Distribution (word count)\")\n",
        "plt.xlabel(\"Words per review\")\n",
        "plt.ylabel(\"Frequency\")\n",
        "plt.tight_layout()\n",
        "plt.savefig(f\"{FIG_DIR}/length_histogram.png\", dpi=150)\n",
        "plt.show()\n"
      ]
    },
    {
      "cell_type": "code",
      "execution_count": null,
      "metadata": {
        "colab": {
          "base_uri": "https://localhost:8080/",
          "height": 542
        },
        "id": "_K0OCWa9DS7r",
        "outputId": "86f09ec3-bcf1-4e5d-98d3-812b5a7b746e"
      },
      "outputs": [
        {
          "name": "stderr",
          "output_type": "stream",
          "text": [
            "/tmp/ipython-input-4118123100.py:4: MatplotlibDeprecationWarning: The 'labels' parameter of boxplot() has been renamed 'tick_labels' since Matplotlib 3.9; support for the old name will be dropped in 3.11.\n",
            "  plt.boxplot(data_by_rating, labels=sorted(rev[RATING_COL].unique()))\n"
          ]
        },
        {
          "data": {
            "image/png": "[encoded data removed]",
            "text/plain": [
              "<Figure size 640x480 with 1 Axes>"
            ]
          },
          "metadata": {},
          "output_type": "display_data"
        }
      ],
      "source": [
        "#3: Boxplot of Length by Rating\n",
        "plt.figure()\n",
        "data_by_rating = [rev[rev[RATING_COL]==r][\"len_words\"].values for r in sorted(rev[RATING_COL].unique())]\n",
        "plt.boxplot(data_by_rating, labels=sorted(rev[RATING_COL].unique()))\n",
        "plt.title(\"Review Length by Rating (Boxplot)\")\n",
        "plt.xlabel(\"Rating\")\n",
        "plt.ylabel(\"Words per review\")\n",
        "plt.tight_layout()\n",
        "plt.savefig(f\"{FIG_DIR}/length_boxplot_by_rating.png\", dpi=150)\n",
        "plt.show()"
      ]
    },
    {
      "cell_type": "code",
      "execution_count": null,
      "metadata": {
        "colab": {
          "base_uri": "https://localhost:8080/",
          "height": 487
        },
        "id": "s_w35p6zDdxK",
        "outputId": "3a9d9a15-358c-4cfe-8cc0-60c0a7629737"
      },
      "outputs": [
        {
          "data": {
            "image/png": "[encoded data removed]",
            "text/plain": [
              "<Figure size 640x480 with 1 Axes>"
            ]
          },
          "metadata": {},
          "output_type": "display_data"
        }
      ],
      "source": [
        "#4: Violin Plot of Length by Rating\n",
        "plt.figure()\n",
        "plt.violinplot(dataset=data_by_rating, showmeans=True, showmedians=True)\n",
        "plt.xticks(ticks=range(1, len(data_by_rating)+1), labels=sorted(rev[RATING_COL].unique()))\n",
        "plt.title(\"Review Length by Rating (Violin)\")\n",
        "plt.xlabel(\"Rating\")\n",
        "plt.ylabel(\"Words per review\")\n",
        "plt.tight_layout()\n",
        "plt.savefig(f\"{FIG_DIR}/length_violin_by_rating.png\", dpi=150)\n",
        "plt.show()"
      ]
    },
    {
      "cell_type": "code",
      "execution_count": null,
      "metadata": {
        "colab": {
          "base_uri": "https://localhost:8080/",
          "height": 1000
        },
        "id": "1lAm9l1aDpWP",
        "outputId": "f9793b9f-e6bc-4e74-cbc0-c53e28166e76"
      },
      "outputs": [
        {
          "data": {
            "image/png": "[encoded data removed]",
            "text/plain": [
              "<Figure size 640x480 with 1 Axes>"
            ]
          },
          "metadata": {},
          "output_type": "display_data"
        },
        {
          "data": {
            "image/png": "[encoded data removed]",
            "text/plain": [
              "<Figure size 640x480 with 1 Axes>"
            ]
          },
          "metadata": {},
          "output_type": "display_data"
        },
        {
          "data": {
            "image/png": "[encoded data removed]",
            "text/plain": [
              "<Figure size 640x480 with 1 Axes>"
            ]
          },
          "metadata": {},
          "output_type": "display_data"
        },
        {
          "data": {
            "image/png": "[encoded data removed]",
            "text/plain": [
              "<Figure size 640x480 with 1 Axes>"
            ]
          },
          "metadata": {},
          "output_type": "display_data"
        },
        {
          "data": {
            "image/png": "[encoded data removed]",
            "text/plain": [
              "<Figure size 640x480 with 1 Axes>"
            ]
          },
          "metadata": {},
          "output_type": "display_data"
        }
      ],
      "source": [
        "#5: Top Words per Rating\n",
        "from sklearn.feature_extraction.text import ENGLISH_STOP_WORDS\n",
        "\n",
        "# keep negation words that matter for sentiment\n",
        "stopwords = set(ENGLISH_STOP_WORDS) - {\"no\",\"not\",\"nor\",\"never\"}\n",
        "\n",
        "TOKEN_RE = re.compile(r\"[a-zA-Z']+\")\n",
        "\n",
        "def tokenize_for_counts(s: str):\n",
        "    toks = [t for t in TOKEN_RE.findall(s.lower()) if len(t) > 1]\n",
        "    toks = [t for t in toks if t not in stopwords]\n",
        "    return toks\n",
        "\n",
        "def plot_top_words_for_rating(rev, rating, top_n=20):\n",
        "    subset = rev[rev[RATING_COL] == rating][\"clean_text\"]\n",
        "    counter = Counter()\n",
        "    for text in subset:\n",
        "        counter.update(tokenize_for_counts(text))\n",
        "    top = counter.most_common(top_n)\n",
        "    if not top:\n",
        "        print(f\"No tokens for rating {rating}\")\n",
        "        return\n",
        "    words, counts = zip(*top)\n",
        "    plt.figure()\n",
        "    plt.bar(range(len(words)), counts)\n",
        "    plt.xticks(range(len(words)), words, rotation=75, ha=\"right\")\n",
        "    plt.title(f\"Top {top_n} Words – Rating {rating}\")\n",
        "    plt.xlabel(\"Word\")\n",
        "    plt.ylabel(\"Frequency\")\n",
        "    plt.tight_layout()\n",
        "    plt.savefig(f\"{FIG_DIR}/top_words_rating_{rating}.png\", dpi=150)\n",
        "    plt.show()\n",
        "\n",
        "for r in sorted(rev[RATING_COL].unique()):\n",
        "    plot_top_words_for_rating(rev, r, top_n=20)"
      ]
    },
    {
      "cell_type": "code",
      "execution_count": null,
      "metadata": {
        "colab": {
          "base_uri": "https://localhost:8080/"
        },
        "id": "E4RRm29JEUTX",
        "outputId": "ddf70c39-fcf3-4a05-dd7a-164367e3b520"
      },
      "outputs": [
        {
          "name": "stdout",
          "output_type": "stream",
          "text": [
            "Imbalanced shape: (50000, 4)\n",
            "Imbalanced distribution:\n",
            "Score\n",
            "1     5000\n",
            "2     7500\n",
            "3    12500\n",
            "4    15000\n",
            "5    10000\n",
            "Name: count, dtype: Int64 \n",
            " Score\n",
            "4    30.0\n",
            "3    25.0\n",
            "5    20.0\n",
            "2    15.0\n",
            "1    10.0\n",
            "Name: proportion, dtype: Float64\n",
            "Saved imbalanced dataset -> data/processed/reviews_imbalanced.csv\n"
          ]
        }
      ],
      "source": [
        "#13: Create Imbalanced Dataset\n",
        "\n",
        "# Target percentages for ratings 1..5\n",
        "target_pct = {1: 0.10, 2: 0.15, 3: 0.25, 4: 0.30, 5: 0.20}\n",
        "\n",
        "# Choose how big you want the imbalanced subset to be:\n",
        "TARGET_SIZE = 50000  # change as you like\n",
        "\n",
        "# Compute desired counts\n",
        "desired = {r: int(round(target_pct[r] * TARGET_SIZE)) for r in target_pct}\n",
        "\n",
        "# Cap by availability\n",
        "available = rev[RATING_COL].value_counts().to_dict()\n",
        "shortages = {}\n",
        "for r in target_pct:\n",
        "    have = available.get(r, 0)\n",
        "    need = desired[r]\n",
        "    if need > have:\n",
        "        shortages[r] = need - have\n",
        "\n",
        "if shortages:\n",
        "    # If any class is short, scale everything down proportionally to fit availability\n",
        "    print(\"Adjusting due to shortages:\", shortages)\n",
        "    max_scaler = min(available.get(r, 0) / (desired[r] if desired[r]>0 else 1) for r in target_pct)\n",
        "    max_scaler = min(1.0, max_scaler)\n",
        "    desired = {r: int(math.floor(desired[r] * max_scaler)) for r in target_pct}\n",
        "\n",
        "# Sample\n",
        "parts = []\n",
        "rng = np.random.default_rng(42)\n",
        "for r in sorted(target_pct.keys()):\n",
        "    subset = rev[rev[RATING_COL] == r]\n",
        "    k = min(len(subset), desired[r])\n",
        "    sampled_idx = rng.choice(subset.index.values, size=k, replace=False)\n",
        "    parts.append(rev.loc[sampled_idx])\n",
        "\n",
        "imbalanced = pd.concat(parts).sample(frac=1.0, random_state=42)  # shuffle\n",
        "print(\"Imbalanced shape:\", imbalanced.shape)\n",
        "print(\"Imbalanced distribution:\")\n",
        "print(imbalanced[RATING_COL].value_counts().sort_index(), \"\\n\",\n",
        "      (imbalanced[RATING_COL].value_counts(normalize=True)*100).round(2))\n",
        "\n",
        "# Save\n",
        "imbalanced[[TEXT_COL, \"clean_text\", RATING_COL, \"len_words\"]].to_csv(IMB_OUT, index=False)\n",
        "print(\"Saved imbalanced dataset ->\", IMB_OUT)\n"
      ]
    },
    {
      "cell_type": "code",
      "execution_count": null,
      "metadata": {
        "id": "bCOxVX4DG2fa"
      },
      "outputs": [],
      "source": []
    },
    {
      "cell_type": "code",
      "execution_count": null,
      "metadata": {
        "id": "nZL2w3w6G2cB"
      },
      "outputs": [],
      "source": []
    }
  ],
  "metadata": {
    "colab": {
      "provenance": [],
      "authorship_tag": "ABX9TyMF3bkyPApwnEsSoJz0D43F",
      "include_colab_link": true
    },
    "kernelspec": {
      "display_name": "Python 3",
      "name": "python3"
    },
    "language_info": {
      "name": "python"
    }
  },
  "nbformat": 4,
  "nbformat_minor": 0
}